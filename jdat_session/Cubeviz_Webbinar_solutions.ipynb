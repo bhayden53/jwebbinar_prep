{
 "cells": [
  {
   "cell_type": "markdown",
   "metadata": {},
   "source": [
    "# Cubeviz visualization tool"
   ]
  },
  {
   "cell_type": "markdown",
   "metadata": {},
   "source": [
    "## Introduction\n",
    "\n",
    "This notebook introduces the basic functionality of the Cubeviz tool.  The aspects we will cover include:\n",
    "\n",
    "* Launching the tool\n",
    "* Loading data from a notebook cell\n",
    "* Adjusting display parameters\n",
    "* Selecting spatial and spectral regions and passing them to the notebook\n",
    "* Extracting a spectrum with Cubeviz and passing it to the notebook\n",
    "* Using the Collapse plugin to extract an image from the cube\n",
    "* Displaying contours on an image\n",
    "* Extracting a spectrum from a notebook cell.\n",
    "\n",
    "The other data analysis plugins will be covered in a future Jwebbinar on IFU and MRS spectroscopy.\n",
    "\n"
   ]
  },
  {
   "cell_type": "markdown",
   "metadata": {},
   "source": [
    "## Imports "
   ]
  },
  {
   "cell_type": "markdown",
   "metadata": {},
   "source": [
    "* _numpy_ for array math\n",
    "* _scipy_ for ndcube gaussian smoothing\n",
    "* _specutils_ for Spectrum1D data model and cube manipulation\n",
    "* _jdaviz_ : Cubeviz data visualization tool\n",
    "* _photutils_ to define circular apertures\n",
    "* _astropy.io_ for reading and writing FITS cubes and images\n",
    "* _astropy.wcs, units, coordinates_ for defining and reading WCS\n",
    "* _astropy.stats_ for sigma_clipping\n",
    "* _astropy.utils_ for downloading files from URLs\n",
    "* _matplotlib_ for plotting spectra and images"
   ]
  },
  {
   "cell_type": "code",
   "execution_count": 1,
   "metadata": {},
   "outputs": [
    {
     "data": {
      "text/html": [
       "<style>.container { width:100% !important; }</style>"
      ],
      "text/plain": [
       "<IPython.core.display.HTML object>"
      ]
     },
     "metadata": {},
     "output_type": "display_data"
    }
   ],
   "source": [
    "#Resize notebook to full width\n",
    "from IPython.core.display import display, HTML\n",
    "display(HTML(\"<style>.container { width:100% !important; }</style>\"))"
   ]
  },
  {
   "cell_type": "code",
   "execution_count": 2,
   "metadata": {},
   "outputs": [
    {
     "name": "stderr",
     "output_type": "stream",
     "text": [
      "/Users/pogle/miniconda3/envs/jdaviz1.1/lib/python3.9/site-packages/glue/external/echo/__init__.py:3: UserWarning: glue.external.echo is deprecated, import from echo directly instead\n",
      "  warnings.warn('glue.external.echo is deprecated, import from echo directly instead')\n"
     ]
    }
   ],
   "source": [
    "import time\n",
    "\n",
    "import numpy as np\n",
    "import scipy\n",
    "\n",
    "import specutils\n",
    "from specutils import Spectrum1D, SpectralRegion\n",
    "from specutils.manipulation import extract_region, spectral_slab\n",
    "\n",
    "from jdaviz import CubeViz\n",
    "\n",
    "from photutils import CircularAperture, SkyCircularAperture, aperture_photometry\n",
    "from photutils.detection import DAOStarFinder\n",
    "\n",
    "from regions import PixCoord, CirclePixelRegion\n",
    "\n",
    "from astropy.io import fits\n",
    "from astropy.stats import sigma_clip\n",
    "from astropy.stats import sigma_clipped_stats\n",
    "from astropy.utils.data import download_file\n",
    "import astropy.units as u\n",
    "\n",
    "%matplotlib inline\n",
    "import matplotlib.pyplot as plt\n",
    "from matplotlib.colors import LogNorm"
   ]
  },
  {
   "cell_type": "markdown",
   "metadata": {},
   "source": [
    "## Read in Simulated NIRSpec IFU Cube\n",
    "\n",
    "A point source (quasar) was simulated using the NIRSpec Instrument Performance Simulator (IPS), then run through the JWST Spec2 pipeline. We will use this for our science dataset.\n",
    "\n",
    "Read in the data both with fits.open (to inspect the data structure and header) and Spectrum1D.read to utilize specutils functionality."
   ]
  },
  {
   "cell_type": "code",
   "execution_count": 3,
   "metadata": {},
   "outputs": [
    {
     "name": "stdout",
     "output_type": "stream",
     "text": [
      "Filename: /var/folders/cw/tytqv5y91qd3j4_stwnc03c80001ww/T/astropy-download-39272-bk32664h\n",
      "No.    Name      Ver    Type      Cards   Dimensions   Format\n",
      "  0  PRIMARY       1 PrimaryHDU     276   ()      \n",
      "  1  SCI           1 ImageHDU        64   (37, 43, 3945)   float32   \n",
      "  2  ERR           1 ImageHDU        12   (37, 43, 3945)   float32   \n",
      "  3  DQ            1 ImageHDU        12   (37, 43, 3945)   int32 (rescales to uint32)   \n",
      "  4  WMAP          1 ImageHDU        10   (37, 43, 3945)   float32   \n",
      "  5  HDRTAB        1 BinTableHDU    788   8R x 389C   [23A, 56A, D, 72A, 10A, 20A, D, 5A, 7A, 13A, 4A, D, D, D, D, D, 4A, 11A, 15A, 7A, 3A, 3A, 3A, K, 10A, 15A, D, D, 56A, 1A, 5A, 3A, 3A, 2A, 1A, 2A, 5A, D, 3A, 5A, D, D, 7A, 19A, D, K, L, L, D, D, 7A, 14A, 5A, D, D, D, D, D, D, 23A, D, D, 7A, 7A, 4A, D, D, 6A, D, D, 5A, D, 4A, K, D, D, D, 22A, 3A, K, D, 7A, 4A, D, D, D, D, D, D, D, D, D, K, D, 7A, D, D, D, D, D, D, D, D, D, 12A, D, D, D, K, D, D, K, K, D, D, K, K, D, D, K, D, D, D, D, D, D, D, D, K, K, L, L, D, D, K, K, D, D, D, D, D, 7A, K, K, K, K, K, K, D, D, D, D, D, D, D, K, D, D, D, 5A, D, D, D, D, D, D, D, D, D, D, D, D, D, 3A, D, D, D, D, D, D, D, D, 7A, D, D, D, D, D, D, D, D, D, D, D, D, D, D, D, D, D, D, D, D, D, D, D, D, D, D, D, D, D, D, K, 3A, 3A, 3A, D, D, D, D, D, D, D, D, D, D, D, D, D, D, D, 7A, 14A, 34A, D, D, 36A, 40A, D, D, 39A, 3A, D, D, 3A, D, D, D, D, 34A, 33A, D, D, 37A, 37A, 39A, D, D, D, D, 33A, 33A, 38A, D, 36A, D, D, D, 3A, D, D, D, D, D, 3A, D, D, D, D, D, D, D, D, 45A, D, D, D, D, 8A, D, D, D, D, D, 8A, 8A, D, D, D, D, D, D, D, 7A, D, D, D, D, 8A, D, D, 8A, D, D, 8A, D, 8A, D, 8A, 8A, 8A, D, D, D, 8A, D, D, 8A, D, D, 8A, D, D, D, D, D, D, D, 6A, D, D, D, D, 32A, D, D, D, K, K, K, K, D, D, D, 8A, 8A, 4A, 3A, 3A, 2A, D, D, D, D, D, D, D, D, D, D, D, D, D, D, D, D, 115A, D, D, K, K, D, D, K, D, D, D, D]   \n",
      "  6  ASDF          1 BinTableHDU     11   1R x 1C   [32630B]   \n",
      "\n",
      "Wavelength:  [0.96652146 0.96675646 0.96699146 ... 1.89289145 1.89312645 1.89336145] um\n"
     ]
    }
   ],
   "source": [
    "#Download the cube data from Box\n",
    "filename = \"https://stsci.box.com/shared/static/ff0bj31acot1272x5qq2clbmto3s6v4f.fits\"\n",
    "cube_file = download_file(filename, cache=True)\n",
    "\n",
    "# Open and inspect the file with astropy.fits.open\n",
    "with fits.open(cube_file, memmap=False) as hdulist:\n",
    "    hdulist.info()\n",
    "    sci = hdulist['SCI'].data\n",
    "    err = hdulist['ERR'].data  \n",
    "    \n",
    "# Load original (untrimmed version) with Spectrum1D    \n",
    "spec1d_untrimmed = Spectrum1D.read(cube_file, format='JWST s3d')\n",
    "wavelength_untrimmed = spec1d_untrimmed.spectral_axis\n",
    "print()\n",
    "print(\"Wavelength: \", wavelength_untrimmed)"
   ]
  },
  {
   "cell_type": "markdown",
   "metadata": {},
   "source": [
    "## Visualize Science Data with Cubeviz"
   ]
  },
  {
   "cell_type": "code",
   "execution_count": 4,
   "metadata": {
    "scrolled": false
   },
   "outputs": [
    {
     "data": {
      "application/vnd.jupyter.widget-view+json": {
       "model_id": "be7bcf11152441c68ecb8b64d2e086b3",
       "version_major": 2,
       "version_minor": 0
      },
      "text/plain": [
       "Application(components={'g-viewer-tab': '<template>\\n  <component :is=\"stack.container\">\\n    <g-viewer-tab\\n …"
      ]
     },
     "metadata": {},
     "output_type": "display_data"
    },
    {
     "name": "stderr",
     "output_type": "stream",
     "text": [
      "/Users/pogle/miniconda3/envs/jdaviz1.1/lib/python3.9/site-packages/glue/core/data.py:1803: FutureWarning: Using a non-tuple sequence for multidimensional indexing is deprecated; use `arr[tuple(seq)]` instead of `arr[seq]`. In the future this will be interpreted as an array index, `arr[np.array(seq)]`, which will result either in an error or a different result.\n",
      "  full_result[result_slices] = result\n",
      "/Users/pogle/miniconda3/envs/jdaviz1.1/lib/python3.9/site-packages/glue/core/data.py:1803: FutureWarning: Using a non-tuple sequence for multidimensional indexing is deprecated; use `arr[tuple(seq)]` instead of `arr[seq]`. In the future this will be interpreted as an array index, `arr[np.array(seq)]`, which will result either in an error or a different result.\n",
      "  full_result[result_slices] = result\n",
      "WARNING: PossiblySlowWarning: This function (<function BaseSpectralCube.sum at 0x168cbcee0>) requires loading the entire cube into memory and may therefore be slow. [spectral_cube.utils]\n",
      "WARNING:astropy:PossiblySlowWarning: This function (<function BaseSpectralCube.sum at 0x168cbcee0>) requires loading the entire cube into memory and may therefore be slow.\n",
      "2021-05-05 13:26:02,696 - stpipe - WARNING - PossiblySlowWarning: This function (<function BaseSpectralCube.sum at 0x168cbcee0>) requires loading the entire cube into memory and may therefore be slow.\n",
      "WARNING:stpipe:PossiblySlowWarning: This function (<function BaseSpectralCube.sum at 0x168cbcee0>) requires loading the entire cube into memory and may therefore be slow.\n",
      "/Users/pogle/miniconda3/envs/jdaviz1.1/lib/python3.9/site-packages/glue/core/data.py:1803: FutureWarning: Using a non-tuple sequence for multidimensional indexing is deprecated; use `arr[tuple(seq)]` instead of `arr[seq]`. In the future this will be interpreted as an array index, `arr[np.array(seq)]`, which will result either in an error or a different result.\n",
      "  full_result[result_slices] = result\n",
      "/Users/pogle/miniconda3/envs/jdaviz1.1/lib/python3.9/site-packages/glue/core/data.py:1803: FutureWarning: Using a non-tuple sequence for multidimensional indexing is deprecated; use `arr[tuple(seq)]` instead of `arr[seq]`. In the future this will be interpreted as an array index, `arr[np.array(seq)]`, which will result either in an error or a different result.\n",
      "  full_result[result_slices] = result\n",
      "/Users/pogle/miniconda3/envs/jdaviz1.1/lib/python3.9/site-packages/glue/core/data.py:1803: FutureWarning: Using a non-tuple sequence for multidimensional indexing is deprecated; use `arr[tuple(seq)]` instead of `arr[seq]`. In the future this will be interpreted as an array index, `arr[np.array(seq)]`, which will result either in an error or a different result.\n",
      "  full_result[result_slices] = result\n",
      "/Users/pogle/miniconda3/envs/jdaviz1.1/lib/python3.9/site-packages/glue/core/data.py:1803: FutureWarning: Using a non-tuple sequence for multidimensional indexing is deprecated; use `arr[tuple(seq)]` instead of `arr[seq]`. In the future this will be interpreted as an array index, `arr[np.array(seq)]`, which will result either in an error or a different result.\n",
      "  full_result[result_slices] = result\n"
     ]
    }
   ],
   "source": [
    "cubeviz = CubeViz()\n",
    "cubeviz.app"
   ]
  },
  {
   "cell_type": "markdown",
   "metadata": {},
   "source": [
    "### UI Instructions:\n",
    "#### Task 1:  Load the cube and view it\n",
    "* Load science datacube into Cubeviz using the next code cell below\n",
    "* Go to Tools icon: Gear icon: Layer in the leftmost image viewer \n",
    "* In that tab, change the stretch to Logarithmic, 99.5 percentile to see the target PSF wings.\n",
    "* Scrub through the cube using the Slice slider.\n",
    "\n",
    "#### Task 2:  Extract a spectrum from a region (subset) of the cube\n",
    "* Select a circular subset region centered on the source, using the region selection tool under the Tools icon. \n",
    "* Note that the region is pixelated and doesn't include fractional pixels.\n",
    "* Change the collapse method to \"Sum\" in spectrum viewer: Tools icon: Gear icon : Viewer. (Note that the collapse method is for the erroneously labeled 2nd \"x axis\")\n",
    "* Adjust the size and location of the region until you are happy with the extraction that shows up in the spectrum viewer.\n",
    "\n",
    "#### Task 3: Select a spectral region for further analysis\n",
    "* In the spectrum viewer, use the vertical and horizontal pan and zoom to focus on the broad H-alpha line (redshifted to 1.64 microns).  To pan: drag and drop spectrum with mouse or trackpad. To zoom: scroll with mouse or trackpad.\n",
    "* Select 'No selection (create new)' in the Subsets menu in the Cubeviz top banner.\n",
    "* Select a spectral subset region in spectrum viewer, using the region selection tool under the Tools icon, centered on a spectral feature of interest.\n",
    "\n",
    "#### Task 4: Extract an image by collapsing the cube\n",
    "* Find the Collapse data analysis Plugin by clicking the 'Lego' icon at upper right.\n",
    "* Select a dataset to collapse with the Data dropdown (e.g. SCI extension of our cube).\n",
    "* Enter the cube Axis to collapse (0 for the spectral axis).\n",
    "* Pick the 'Sum' collapse method.\n",
    "* Choose a spectral region to collapse in the Spectral Region dropdown (e.g. Subset 2).\n",
    "* Press 'Apply' \n",
    "* Use the 2nd cube/image viewer to display the collapsed data cube image. Go to Tools icon: Gear icon : Data dropdown, deselect the 'ERR' extension checkbox, and select the 'Collapsed' dataset that was generated by the previous step. \n",
    "* NB: you may need to resize the viewer(s) in order to see the full tools menu.\n",
    "* Adjust the Stretch in the viewer as needed.\n",
    "\n",
    "#### Task 5: Display contours on an image or cube\n",
    "* Go to Tools icon: Gear icon : Layer in the 2nd viewer\n",
    "* Make sure the 'SCI' extension is selected.\n",
    "* Change the stretch in of the collapsed cube image to Logarithmic 95%.\n",
    "* Click on the Contour 'eye with slash' icon to remove the slash and display the autogenerated contours.\n",
    "* Click on the wrench icon to enter custom contour levels (try 1e+12, 1e+13, 1e+14 for the collapsed data set). Note: There is a bug that autocorrects scientific notation. Try entering a junk character like '#' at the beginning of each level (e.g. #1e+12, #1e+13, #1e+14) then delete the '#s', as a temporary work-around."
   ]
  },
  {
   "cell_type": "markdown",
   "metadata": {},
   "source": [
    "## Load Cube into Cubeviz"
   ]
  },
  {
   "cell_type": "code",
   "execution_count": 5,
   "metadata": {
    "scrolled": false
   },
   "outputs": [
    {
     "name": "stderr",
     "output_type": "stream",
     "text": [
      "WARNING: No spectral axis found; header may be non-compliant. [spectral_cube.cube_utils]\n",
      "WARNING:astropy:No spectral axis found; header may be non-compliant.\n",
      "2021-05-05 13:21:45,564 - stpipe - WARNING - No spectral axis found; header may be non-compliant.\n",
      "WARNING:stpipe:No spectral axis found; header may be non-compliant.\n",
      "WARNING: No spectral axis found; header may be non-compliant. [spectral_cube.cube_utils]\n",
      "WARNING:astropy:No spectral axis found; header may be non-compliant.\n",
      "2021-05-05 13:21:45,617 - stpipe - WARNING - No spectral axis found; header may be non-compliant.\n",
      "WARNING:stpipe:No spectral axis found; header may be non-compliant.\n",
      "WARNING: No spectral axis found; header may be non-compliant. [spectral_cube.cube_utils]\n",
      "WARNING:astropy:No spectral axis found; header may be non-compliant.\n",
      "2021-05-05 13:21:45,622 - stpipe - WARNING - No spectral axis found; header may be non-compliant.\n",
      "WARNING:stpipe:No spectral axis found; header may be non-compliant.\n",
      "WARNING: No spectral axis found; header may be non-compliant. [spectral_cube.cube_utils]\n",
      "WARNING:astropy:No spectral axis found; header may be non-compliant.\n",
      "2021-05-05 13:21:46,252 - stpipe - WARNING - No spectral axis found; header may be non-compliant.\n",
      "WARNING:stpipe:No spectral axis found; header may be non-compliant.\n",
      "WARNING: No spectral axis found; header may be non-compliant. [spectral_cube.cube_utils]\n",
      "WARNING:astropy:No spectral axis found; header may be non-compliant.\n",
      "2021-05-05 13:21:46,466 - stpipe - WARNING - No spectral axis found; header may be non-compliant.\n",
      "WARNING:stpipe:No spectral axis found; header may be non-compliant.\n",
      "WARNING: No spectral axis found; header may be non-compliant. [spectral_cube.cube_utils]\n",
      "WARNING:astropy:No spectral axis found; header may be non-compliant.\n",
      "2021-05-05 13:21:46,725 - stpipe - WARNING - No spectral axis found; header may be non-compliant.\n",
      "WARNING:stpipe:No spectral axis found; header may be non-compliant.\n"
     ]
    }
   ],
   "source": [
    "time.sleep(2)  # Sleep to avoid glue-jupyter timing issue\n",
    "cubeviz.app.load_data(cube_file)"
   ]
  },
  {
   "cell_type": "markdown",
   "metadata": {},
   "source": [
    "## Export Region from Cubeviz\n",
    "Export the region defined by the user in Cubeviz as an astropy CirclePixel Region, which has units of pixels.  We need \"try:, except:\" to catch the case where there is no Subset 1 selected in Cubeviz. "
   ]
  },
  {
   "cell_type": "code",
   "execution_count": 6,
   "metadata": {},
   "outputs": [
    {
     "name": "stdout",
     "output_type": "stream",
     "text": [
      "Region: CirclePixelRegion\n",
      "center: PixCoord(x=18.353933334350586, y=20.06417465209961)\n",
      "radius: 5.142389297485352\n"
     ]
    },
    {
     "name": "stderr",
     "output_type": "stream",
     "text": [
      "/Users/pogle/miniconda3/envs/jdaviz1.1/lib/python3.9/site-packages/glue/core/data.py:1803: FutureWarning: Using a non-tuple sequence for multidimensional indexing is deprecated; use `arr[tuple(seq)]` instead of `arr[seq]`. In the future this will be interpreted as an array index, `arr[np.array(seq)]`, which will result either in an error or a different result.\n",
      "  full_result[result_slices] = result\n",
      "/Users/pogle/miniconda3/envs/jdaviz1.1/lib/python3.9/site-packages/glue/core/data.py:1803: FutureWarning: Using a non-tuple sequence for multidimensional indexing is deprecated; use `arr[tuple(seq)]` instead of `arr[seq]`. In the future this will be interpreted as an array index, `arr[np.array(seq)]`, which will result either in an error or a different result.\n",
      "  full_result[result_slices] = result\n",
      "/Users/pogle/miniconda3/envs/jdaviz1.1/lib/python3.9/site-packages/glue/core/data.py:1803: FutureWarning: Using a non-tuple sequence for multidimensional indexing is deprecated; use `arr[tuple(seq)]` instead of `arr[seq]`. In the future this will be interpreted as an array index, `arr[np.array(seq)]`, which will result either in an error or a different result.\n",
      "  full_result[result_slices] = result\n"
     ]
    }
   ],
   "source": [
    "cubeviz_data = cubeviz.app.data_collection[0]\n",
    "try:\n",
    "    region1 = cubeviz.app.get_subsets_from_viewer('spectrum-viewer')['Subset 1']\n",
    "    print(region1)\n",
    "    region1_exists = True\n",
    "    center1_xy = [region1.center.x, region1.center.y]  \n",
    "    r_pix = region1.radius\n",
    "\n",
    "except Exception:\n",
    "    print(\"There are no regions selected in the cube viewer.\")\n",
    "    region1_exists = False\n",
    "    center1_xy = [17.1, 20.]\n",
    "    r_pix = 6.0\n",
    "      "
   ]
  },
  {
   "cell_type": "markdown",
   "metadata": {},
   "source": [
    "## Extract Subset Spectrum in Cubeviz Spectrum Viewer\n",
    "Retrieve the spectrum (Subset1) of the user-defined region from the Spectrum Viewer as a Spectrum1D object. Trim to remove bad wavelength ranges."
   ]
  },
  {
   "cell_type": "code",
   "execution_count": 7,
   "metadata": {},
   "outputs": [
    {
     "name": "stderr",
     "output_type": "stream",
     "text": [
      "/Users/pogle/miniconda3/envs/jdaviz1.1/lib/python3.9/site-packages/glue/core/data.py:1803: FutureWarning: Using a non-tuple sequence for multidimensional indexing is deprecated; use `arr[tuple(seq)]` instead of `arr[seq]`. In the future this will be interpreted as an array index, `arr[np.array(seq)]`, which will result either in an error or a different result.\n",
      "  full_result[result_slices] = result\n",
      "/Users/pogle/miniconda3/envs/jdaviz1.1/lib/python3.9/site-packages/glue/core/data.py:1803: FutureWarning: Using a non-tuple sequence for multidimensional indexing is deprecated; use `arr[tuple(seq)]` instead of `arr[seq]`. In the future this will be interpreted as an array index, `arr[np.array(seq)]`, which will result either in an error or a different result.\n",
      "  full_result[result_slices] = result\n",
      "/Users/pogle/miniconda3/envs/jdaviz1.1/lib/python3.9/site-packages/glue/core/data.py:1803: FutureWarning: Using a non-tuple sequence for multidimensional indexing is deprecated; use `arr[tuple(seq)]` instead of `arr[seq]`. In the future this will be interpreted as an array index, `arr[np.array(seq)]`, which will result either in an error or a different result.\n",
      "  full_result[result_slices] = result\n",
      "WARNING: No observer defined on WCS, SpectralCoord will be converted without any velocity frame change [astropy.wcs.wcsapi.fitswcs]\n",
      "WARNING:astropy:No observer defined on WCS, SpectralCoord will be converted without any velocity frame change\n",
      "2021-05-05 13:30:43,210 - stpipe - WARNING - No observer defined on WCS, SpectralCoord will be converted without any velocity frame change\n",
      "WARNING:stpipe:No observer defined on WCS, SpectralCoord will be converted without any velocity frame change\n",
      "WARNING: No observer defined on WCS, SpectralCoord will be converted without any velocity frame change [astropy.wcs.wcsapi.fitswcs]\n",
      "WARNING:astropy:No observer defined on WCS, SpectralCoord will be converted without any velocity frame change\n",
      "2021-05-05 13:30:43,217 - stpipe - WARNING - No observer defined on WCS, SpectralCoord will be converted without any velocity frame change\n",
      "WARNING:stpipe:No observer defined on WCS, SpectralCoord will be converted without any velocity frame change\n"
     ]
    },
    {
     "name": "stdout",
     "output_type": "stream",
     "text": [
      "Spectrum1D (length=3945)\n",
      "flux:             [ 3.7779e+14 MJy / sr, ..., 2.1271e+14 MJy / sr ],  mean=3.7849e+14 MJy / sr\n",
      "spectral axis:    [ 9.6652e-07 m, ..., 1.8934e-06 m ],  mean=1.4299e-06 m\n",
      "\n",
      "Wavelength: [9.66521456e-07 9.66756456e-07 9.66991456e-07 ... 1.89289145e-06\n",
      " 1.89312645e-06 1.89336145e-06] m\n",
      "Trimmed: [1.00012646e-06 1.00036146e-06 1.00059646e-06 ... 1.87949645e-06\n",
      " 1.87973145e-06 1.87996645e-06] m\n",
      "\n"
     ]
    }
   ],
   "source": [
    "wave_trim =[1.0*u.um,1.88*u.um]\n",
    "trim_region = SpectralRegion(wave_trim[0], wave_trim[1])\n",
    "try:\n",
    "    spectrum_subset1_untrimmed = cubeviz.app.get_data_from_viewer('spectrum-viewer')['Subset 1']\n",
    "    print(spectrum_subset1_untrimmed)\n",
    "    \n",
    "    # Trim the extracted spectrum\n",
    "    spectrum_subset1 = extract_region(spectrum_subset1_untrimmed, trim_region)\n",
    "    \n",
    "    print()\n",
    "    print('Wavelength:', spectrum_subset1_untrimmed.spectral_axis)\n",
    "    print('Trimmed:', spectrum_subset1.spectral_axis)\n",
    "    print()\n",
    "\n",
    "except Exception:\n",
    "    print(\"There are no subsets selected in the spectrum viewer.\")\n",
    "    \n",
    "\n",
    "#spectrum_subset1_untrimmed = spectrum_subset1_untrimmed.with_spectral_unit(u.um)\n"
   ]
  },
  {
   "cell_type": "markdown",
   "metadata": {},
   "source": [
    "## Extract Spectrum in Linearly Expanding Circular Aperture (Cone)\n",
    "This method is appropriate for a point source PSF with width proportional to wavelength"
   ]
  },
  {
   "cell_type": "code",
   "execution_count": 8,
   "metadata": {},
   "outputs": [
    {
     "name": "stdout",
     "output_type": "stream",
     "text": [
      "Region: CirclePixelRegion\n",
      "center: PixCoord(x=16.353933334350586, y=15.06417465209961)\n",
      "radius: 5.142389297485352\n",
      "Spectrum1D (length=3745)\n",
      "flux:             [ 3.2951e+14 MJy / sr, ..., 3.0054e+14 MJy / sr ],  mean=3.9019e+14 MJy / sr\n",
      "spectral axis:    [ 1.0001 um, ..., 1.88 um ],  mean=1.44 um\n"
     ]
    }
   ],
   "source": [
    "# Trim the data cube and adjust region location\n",
    "x_trim = [2,-1]\n",
    "y_trim = [5, -4]\n",
    "spec1d = spectral_slab(spec1d_untrimmed, wave_trim[0], wave_trim[1])[x_trim[0]:x_trim[1],y_trim[0]:y_trim[1],:]\n",
    "wavelength = spec1d.spectral_axis\n",
    "spec1d_len = len(wavelength.value)\n",
    "\n",
    "#Adjust region location in trimmed cube\n",
    "center_trim = PixCoord(x=center1_xy[0]-x_trim[0], y=center1_xy[1]-y_trim[0])\n",
    "region_trim = CirclePixelRegion(center=center_trim, radius=r_pix)\n",
    "print(region_trim)\n",
    "\n",
    "center_x = center_trim.x\n",
    "center_y = center_trim.y\n",
    "\n",
    "#Use photutils.aperture_photometry to measure flux in expanding aperture\n",
    "cone_sum = []\n",
    "for idx in range(spec1d_len):\n",
    "    r_cone = r_pix * wavelength.value[idx]/ wavelength.value[0]\n",
    "    aperture_cone = CircularAperture((center_x,center_y), r=r_cone)\n",
    "    phot_table = aperture_photometry(spec1d.flux.value[:, :, idx], aperture_cone)\n",
    "    cone_sum.append(phot_table['aperture_sum'][0])\n",
    "    \n",
    "cone = Spectrum1D(flux=np.array(cone_sum)*u.MJy/u.sr, spectral_axis=spec1d.spectral_axis)\n",
    "print(cone)\n"
   ]
  },
  {
   "cell_type": "markdown",
   "metadata": {},
   "source": [
    "## Plot and Compare Spectral Extractions\n",
    "Compare spectra extracted in cylinder, cone, Cubeviz subset."
   ]
  },
  {
   "cell_type": "code",
   "execution_count": 9,
   "metadata": {},
   "outputs": [
    {
     "name": "stdout",
     "output_type": "stream",
     "text": [
      "3745\n",
      "3745\n"
     ]
    },
    {
     "data": {
      "image/png": "[encoded data removed]",
      "text/plain": [
       "<Figure size 1080x360 with 1 Axes>"
      ]
     },
     "metadata": {
      "needs_background": "light"
     },
     "output_type": "display_data"
    }
   ],
   "source": [
    "print(len(wavelength))\n",
    "print(len(spectrum_subset1.flux.value))\n",
    "f, (ax1) = plt.subplots(1, 1, figsize=(15, 5)) \n",
    "\n",
    "ax1.set_title(\"Spectral extractions\")\n",
    "ax1.set_xlabel(\"Observed Wavelength (microns)\")  \n",
    "ax1.set_ylabel(\"Flux Density\")\n",
    "ax1.set_xlim(0.99, 1.9)\n",
    "#ax1.set_ylim(0, 0.6)\n",
    "\n",
    "ax1.plot(wavelength, cone.flux.value, label=\"Cone\", c='darkorange', alpha=0.5)\n",
    "try:\n",
    "    ax1.plot(wavelength, spectrum_subset1.flux.value, c='r', label=\"Subset1\", alpha=0.4)\n",
    "except Exception:\n",
    "    print(\"There is no Cubeviz Subset1 spectrum to plot.\")\n",
    "ax1.legend()\n",
    "\n",
    "plt.show()"
   ]
  },
  {
   "cell_type": "markdown",
   "metadata": {},
   "source": [
    "Comparison of the conical and Cubeviz subset spectral extractions. \n",
    "The conical extraction captures slightly more flux at long wavelengths.\n",
    "Red-shifted Broad Balmer and narrow [O III] lines  are visible in the quasar spectra. "
   ]
  },
  {
   "cell_type": "markdown",
   "metadata": {},
   "source": [
    "<img style=\"float: right;\" src=\"https://raw.githubusercontent.com/spacetelescope/notebooks/master/assets/stsci_pri_combo_mark_horizonal_white_bkgd.png\" alt=\"Space Telescope Logo\" width=\"200px\"/>"
   ]
  },
  {
   "cell_type": "markdown",
   "metadata": {},
   "source": [
    "Notebook created by Patrick Ogle."
   ]
  }
 ],
 "metadata": {
  "kernelspec": {
   "display_name": "Python 3",
   "language": "python",
   "name": "python3"
  },
  "language_info": {
   "codemirror_mode": {
    "name": "ipython",
    "version": 3
   },
   "file_extension": ".py",
   "mimetype": "text/x-python",
   "name": "python",
   "nbconvert_exporter": "python",
   "pygments_lexer": "ipython3",
   "version": "3.9.2"
  }
 },
 "nbformat": 4,
 "nbformat_minor": 4
}
