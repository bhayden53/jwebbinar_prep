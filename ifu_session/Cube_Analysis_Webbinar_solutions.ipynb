{
 "nbformat_minor": 4, 
 "cells": [
  {
   "source": [
    "## Introduction\n", 
    "\n", 
    "This notebook demonstrates how to visualize and analyze JWST data cubes, including how to:\n", 
    "\n", 
    "* Launch CubeViz\n", 
    "* Load data from a notebook cell\n", 
    "* Adjust display parameters\n", 
    "* Subtract continuum from a datacube\n", 
    "* Select spectral regions for further analysis \n", 
    "* Use the Moment Maps plugin to map a spectral feature\n", 
    "* Use the Moment Maps plugin to extract a velocity map\n", 
    "* Model the spectrum for every spaxel in a cube.\n", 
    "* Use a cube model to create feature maps.\n"
   ], 
   "cell_type": "markdown", 
   "metadata": {}
  }, 
  {
   "source": [
    "## Data\n", 
    "\n", 
    "We use a simulated 4-point dithered observation of a point source produced using MIRISim, \n", 
    "with the spectrum of active galaxy NGC 5728.  It has been processed with the JWST pipeline (Detector1/Spec2/Spec3).  The output is constructed only for a \n", 
    "single MRS channel/band (2C).\n", 
    "\n", 
    "For the NIRSpec IFU data, a point source (quasar) was simulated using the NIRSpec Instrument Performance Simulator (IPS), then run through the JWST Spec2 and Spec3 pipelines. "
   ], 
   "cell_type": "markdown", 
   "metadata": {}
  }, 
  {
   "source": [
    "## Imports "
   ], 
   "cell_type": "markdown", 
   "metadata": {}
  }, 
  {
   "source": [
    "* _jdaviz_ : Cubeviz data visualization tool\n", 
    "* _astropy.io_ for reading and writing FITS cubes and images\n", 
    "* _astropy.utils_ for downloading files from URLs"
   ], 
   "cell_type": "markdown", 
   "metadata": {}
  }, 
  {
   "execution_count": 1, 
   "cell_type": "code", 
   "source": [
    "from jdaviz import CubeViz\n", 
    "from astropy.io import fits\n", 
    "from astropy.utils.data import download_file"
   ], 
   "outputs": [], 
   "metadata": {}
  }, 
  {
   "source": [
    "## Visualize a simulated MIRI MRS data cube\n", 
    "\n", 
    "* Load and display the data\n", 
    "* Select a spectral region\n", 
    "* Create moment maps\n", 
    "\n", 
    "Execute the next cell to launch Cubeviz, then follow the instructions for each task enumerated in the cell directly below the Cubeviz app."
   ], 
   "cell_type": "markdown", 
   "metadata": {}
  }, 
  {
   "execution_count": 2, 
   "cell_type": "code", 
   "source": [
    "cubeviz = CubeViz()\n", 
    "cubeviz.app"
   ], 
   "outputs": [
    {
     "output_type": "display_data", 
     "data": {
      "application/vnd.jupyter.widget-view+json": {
       "model_id": "43935f037f3948078d1ab4300fbe2034", 
       "version_minor": 0, 
       "version_major": 2
      }, 
      "text/plain": [
       "Application(components={'g-viewer-tab': '<template>\\n  <component :is=\"stack.container\">\\n    <g-viewer-tab\\n \u2026"
      ]
     }, 
     "metadata": {}
    }, 
    {
     "output_type": "stream", 
     "name": "stderr", 
     "text": [
      "/Users/pogle/miniconda3/envs/jwebbinar5_test/lib/python3.8/site-packages/glue/core/data.py:1803: FutureWarning: Using a non-tuple sequence for multidimensional indexing is deprecated; use `arr[tuple(seq)]` instead of `arr[seq]`. In the future this will be interpreted as an array index, `arr[np.array(seq)]`, which will result either in an error or a different result.\n", 
      "  full_result[result_slices] = result\n", 
      "/Users/pogle/miniconda3/envs/jwebbinar5_test/lib/python3.8/site-packages/glue/core/data.py:1803: FutureWarning: Using a non-tuple sequence for multidimensional indexing is deprecated; use `arr[tuple(seq)]` instead of `arr[seq]`. In the future this will be interpreted as an array index, `arr[np.array(seq)]`, which will result either in an error or a different result.\n", 
      "  full_result[result_slices] = result\n", 
      "WARNING: The fit may be unsuccessful; check fit_info['message'] for more information. [astropy.modeling.fitting]\n", 
      "WARNING:astropy:The fit may be unsuccessful; check fit_info['message'] for more information.\n", 
      "/Users/pogle/miniconda3/envs/jwebbinar5_test/lib/python3.8/site-packages/glue/core/data.py:1803: FutureWarning: Using a non-tuple sequence for multidimensional indexing is deprecated; use `arr[tuple(seq)]` instead of `arr[seq]`. In the future this will be interpreted as an array index, `arr[np.array(seq)]`, which will result either in an error or a different result.\n", 
      "  full_result[result_slices] = result\n", 
      "/Users/pogle/miniconda3/envs/jwebbinar5_test/lib/python3.8/site-packages/glue/core/data.py:1803: FutureWarning: Using a non-tuple sequence for multidimensional indexing is deprecated; use `arr[tuple(seq)]` instead of `arr[seq]`. In the future this will be interpreted as an array index, `arr[np.array(seq)]`, which will result either in an error or a different result.\n", 
      "  full_result[result_slices] = result\n", 
      "/Users/pogle/miniconda3/envs/jwebbinar5_test/lib/python3.8/site-packages/glue/core/data.py:1803: FutureWarning: Using a non-tuple sequence for multidimensional indexing is deprecated; use `arr[tuple(seq)]` instead of `arr[seq]`. In the future this will be interpreted as an array index, `arr[np.array(seq)]`, which will result either in an error or a different result.\n", 
      "  full_result[result_slices] = result\n", 
      "/Users/pogle/miniconda3/envs/jwebbinar5_test/lib/python3.8/site-packages/glue/core/data.py:1803: FutureWarning: Using a non-tuple sequence for multidimensional indexing is deprecated; use `arr[tuple(seq)]` instead of `arr[seq]`. In the future this will be interpreted as an array index, `arr[np.array(seq)]`, which will result either in an error or a different result.\n", 
      "  full_result[result_slices] = result\n", 
      "/Users/pogle/miniconda3/envs/jwebbinar5_test/lib/python3.8/site-packages/glue/core/data.py:1803: FutureWarning: Using a non-tuple sequence for multidimensional indexing is deprecated; use `arr[tuple(seq)]` instead of `arr[seq]`. In the future this will be interpreted as an array index, `arr[np.array(seq)]`, which will result either in an error or a different result.\n", 
      "  full_result[result_slices] = result\n", 
      "/Users/pogle/miniconda3/envs/jwebbinar5_test/lib/python3.8/site-packages/glue/core/data.py:1803: FutureWarning: Using a non-tuple sequence for multidimensional indexing is deprecated; use `arr[tuple(seq)]` instead of `arr[seq]`. In the future this will be interpreted as an array index, `arr[np.array(seq)]`, which will result either in an error or a different result.\n", 
      "  full_result[result_slices] = result\n", 
      "/Users/pogle/miniconda3/envs/jwebbinar5_test/lib/python3.8/site-packages/glue/core/data.py:1803: FutureWarning: Using a non-tuple sequence for multidimensional indexing is deprecated; use `arr[tuple(seq)]` instead of `arr[seq]`. In the future this will be interpreted as an array index, `arr[np.array(seq)]`, which will result either in an error or a different result.\n", 
      "  full_result[result_slices] = result\n", 
      "/Users/pogle/miniconda3/envs/jwebbinar5_test/lib/python3.8/site-packages/glue/core/data.py:1803: FutureWarning: Using a non-tuple sequence for multidimensional indexing is deprecated; use `arr[tuple(seq)]` instead of `arr[seq]`. In the future this will be interpreted as an array index, `arr[np.array(seq)]`, which will result either in an error or a different result.\n", 
      "  full_result[result_slices] = result\n", 
      "/Users/pogle/miniconda3/envs/jwebbinar5_test/lib/python3.8/site-packages/glue/core/data.py:1803: FutureWarning: Using a non-tuple sequence for multidimensional indexing is deprecated; use `arr[tuple(seq)]` instead of `arr[seq]`. In the future this will be interpreted as an array index, `arr[np.array(seq)]`, which will result either in an error or a different result.\n", 
      "  full_result[result_slices] = result\n", 
      "/Users/pogle/miniconda3/envs/jwebbinar5_test/lib/python3.8/site-packages/glue/core/data.py:1803: FutureWarning: Using a non-tuple sequence for multidimensional indexing is deprecated; use `arr[tuple(seq)]` instead of `arr[seq]`. In the future this will be interpreted as an array index, `arr[np.array(seq)]`, which will result either in an error or a different result.\n", 
      "  full_result[result_slices] = result\n", 
      "/Users/pogle/miniconda3/envs/jwebbinar5_test/lib/python3.8/site-packages/glue/core/data.py:1803: FutureWarning: Using a non-tuple sequence for multidimensional indexing is deprecated; use `arr[tuple(seq)]` instead of `arr[seq]`. In the future this will be interpreted as an array index, `arr[np.array(seq)]`, which will result either in an error or a different result.\n", 
      "  full_result[result_slices] = result\n", 
      "/Users/pogle/miniconda3/envs/jwebbinar5_test/lib/python3.8/site-packages/glue/core/data.py:1803: FutureWarning: Using a non-tuple sequence for multidimensional indexing is deprecated; use `arr[tuple(seq)]` instead of `arr[seq]`. In the future this will be interpreted as an array index, `arr[np.array(seq)]`, which will result either in an error or a different result.\n", 
      "  full_result[result_slices] = result\n", 
      "/Users/pogle/miniconda3/envs/jwebbinar5_test/lib/python3.8/site-packages/glue/core/data.py:1803: FutureWarning: Using a non-tuple sequence for multidimensional indexing is deprecated; use `arr[tuple(seq)]` instead of `arr[seq]`. In the future this will be interpreted as an array index, `arr[np.array(seq)]`, which will result either in an error or a different result.\n", 
      "  full_result[result_slices] = result\n", 
      "/Users/pogle/miniconda3/envs/jwebbinar5_test/lib/python3.8/site-packages/glue/core/data.py:1803: FutureWarning: Using a non-tuple sequence for multidimensional indexing is deprecated; use `arr[tuple(seq)]` instead of `arr[seq]`. In the future this will be interpreted as an array index, `arr[np.array(seq)]`, which will result either in an error or a different result.\n", 
      "  full_result[result_slices] = result\n", 
      "/Users/pogle/miniconda3/envs/jwebbinar5_test/lib/python3.8/site-packages/glue/core/data.py:1803: FutureWarning: Using a non-tuple sequence for multidimensional indexing is deprecated; use `arr[tuple(seq)]` instead of `arr[seq]`. In the future this will be interpreted as an array index, `arr[np.array(seq)]`, which will result either in an error or a different result.\n", 
      "  full_result[result_slices] = result\n", 
      "/Users/pogle/miniconda3/envs/jwebbinar5_test/lib/python3.8/site-packages/glue/core/data.py:1803: FutureWarning: Using a non-tuple sequence for multidimensional indexing is deprecated; use `arr[tuple(seq)]` instead of `arr[seq]`. In the future this will be interpreted as an array index, `arr[np.array(seq)]`, which will result either in an error or a different result.\n", 
      "  full_result[result_slices] = result\n", 
      "/Users/pogle/miniconda3/envs/jwebbinar5_test/lib/python3.8/site-packages/glue/core/data.py:1803: FutureWarning: Using a non-tuple sequence for multidimensional indexing is deprecated; use `arr[tuple(seq)]` instead of `arr[seq]`. In the future this will be interpreted as an array index, `arr[np.array(seq)]`, which will result either in an error or a different result.\n", 
      "  full_result[result_slices] = result\n", 
      "/Users/pogle/miniconda3/envs/jwebbinar5_test/lib/python3.8/site-packages/glue/core/data.py:1803: FutureWarning: Using a non-tuple sequence for multidimensional indexing is deprecated; use `arr[tuple(seq)]` instead of `arr[seq]`. In the future this will be interpreted as an array index, `arr[np.array(seq)]`, which will result either in an error or a different result.\n", 
      "  full_result[result_slices] = result\n", 
      "/Users/pogle/miniconda3/envs/jwebbinar5_test/lib/python3.8/site-packages/glue/core/data.py:1803: FutureWarning: Using a non-tuple sequence for multidimensional indexing is deprecated; use `arr[tuple(seq)]` instead of `arr[seq]`. In the future this will be interpreted as an array index, `arr[np.array(seq)]`, which will result either in an error or a different result.\n", 
      "  full_result[result_slices] = result\n", 
      "/Users/pogle/miniconda3/envs/jwebbinar5_test/lib/python3.8/site-packages/glue/core/data.py:1803: FutureWarning: Using a non-tuple sequence for multidimensional indexing is deprecated; use `arr[tuple(seq)]` instead of `arr[seq]`. In the future this will be interpreted as an array index, `arr[np.array(seq)]`, which will result either in an error or a different result.\n", 
      "  full_result[result_slices] = result\n", 
      "/Users/pogle/miniconda3/envs/jwebbinar5_test/lib/python3.8/site-packages/glue/core/data.py:1803: FutureWarning: Using a non-tuple sequence for multidimensional indexing is deprecated; use `arr[tuple(seq)]` instead of `arr[seq]`. In the future this will be interpreted as an array index, `arr[np.array(seq)]`, which will result either in an error or a different result.\n", 
      "  full_result[result_slices] = result\n", 
      "/Users/pogle/miniconda3/envs/jwebbinar5_test/lib/python3.8/site-packages/glue/core/data.py:1803: FutureWarning: Using a non-tuple sequence for multidimensional indexing is deprecated; use `arr[tuple(seq)]` instead of `arr[seq]`. In the future this will be interpreted as an array index, `arr[np.array(seq)]`, which will result either in an error or a different result.\n", 
      "  full_result[result_slices] = result\n"
     ]
    }, 
    {
     "output_type": "stream", 
     "name": "stderr", 
     "text": [
      "/Users/pogle/miniconda3/envs/jwebbinar5_test/lib/python3.8/site-packages/glue/core/data.py:1803: FutureWarning: Using a non-tuple sequence for multidimensional indexing is deprecated; use `arr[tuple(seq)]` instead of `arr[seq]`. In the future this will be interpreted as an array index, `arr[np.array(seq)]`, which will result either in an error or a different result.\n", 
      "  full_result[result_slices] = result\n", 
      "/Users/pogle/miniconda3/envs/jwebbinar5_test/lib/python3.8/site-packages/glue/core/data.py:1803: FutureWarning: Using a non-tuple sequence for multidimensional indexing is deprecated; use `arr[tuple(seq)]` instead of `arr[seq]`. In the future this will be interpreted as an array index, `arr[np.array(seq)]`, which will result either in an error or a different result.\n", 
      "  full_result[result_slices] = result\n", 
      "/Users/pogle/miniconda3/envs/jwebbinar5_test/lib/python3.8/site-packages/glue/core/data.py:1803: FutureWarning: Using a non-tuple sequence for multidimensional indexing is deprecated; use `arr[tuple(seq)]` instead of `arr[seq]`. In the future this will be interpreted as an array index, `arr[np.array(seq)]`, which will result either in an error or a different result.\n", 
      "  full_result[result_slices] = result\n", 
      "/Users/pogle/miniconda3/envs/jwebbinar5_test/lib/python3.8/site-packages/glue/core/data.py:1803: FutureWarning: Using a non-tuple sequence for multidimensional indexing is deprecated; use `arr[tuple(seq)]` instead of `arr[seq]`. In the future this will be interpreted as an array index, `arr[np.array(seq)]`, which will result either in an error or a different result.\n", 
      "  full_result[result_slices] = result\n", 
      "/Users/pogle/miniconda3/envs/jwebbinar5_test/lib/python3.8/site-packages/glue/core/data.py:1803: FutureWarning: Using a non-tuple sequence for multidimensional indexing is deprecated; use `arr[tuple(seq)]` instead of `arr[seq]`. In the future this will be interpreted as an array index, `arr[np.array(seq)]`, which will result either in an error or a different result.\n", 
      "  full_result[result_slices] = result\n", 
      "/Users/pogle/miniconda3/envs/jwebbinar5_test/lib/python3.8/site-packages/glue/core/data.py:1803: FutureWarning: Using a non-tuple sequence for multidimensional indexing is deprecated; use `arr[tuple(seq)]` instead of `arr[seq]`. In the future this will be interpreted as an array index, `arr[np.array(seq)]`, which will result either in an error or a different result.\n", 
      "  full_result[result_slices] = result\n", 
      "/Users/pogle/miniconda3/envs/jwebbinar5_test/lib/python3.8/site-packages/glue/core/data.py:1803: FutureWarning: Using a non-tuple sequence for multidimensional indexing is deprecated; use `arr[tuple(seq)]` instead of `arr[seq]`. In the future this will be interpreted as an array index, `arr[np.array(seq)]`, which will result either in an error or a different result.\n", 
      "  full_result[result_slices] = result\n", 
      "/Users/pogle/miniconda3/envs/jwebbinar5_test/lib/python3.8/site-packages/glue/core/data.py:1803: FutureWarning: Using a non-tuple sequence for multidimensional indexing is deprecated; use `arr[tuple(seq)]` instead of `arr[seq]`. In the future this will be interpreted as an array index, `arr[np.array(seq)]`, which will result either in an error or a different result.\n", 
      "  full_result[result_slices] = result\n", 
      "/Users/pogle/miniconda3/envs/jwebbinar5_test/lib/python3.8/site-packages/glue/core/data.py:1803: FutureWarning: Using a non-tuple sequence for multidimensional indexing is deprecated; use `arr[tuple(seq)]` instead of `arr[seq]`. In the future this will be interpreted as an array index, `arr[np.array(seq)]`, which will result either in an error or a different result.\n", 
      "  full_result[result_slices] = result\n", 
      "/Users/pogle/miniconda3/envs/jwebbinar5_test/lib/python3.8/site-packages/glue/core/data.py:1803: FutureWarning: Using a non-tuple sequence for multidimensional indexing is deprecated; use `arr[tuple(seq)]` instead of `arr[seq]`. In the future this will be interpreted as an array index, `arr[np.array(seq)]`, which will result either in an error or a different result.\n", 
      "  full_result[result_slices] = result\n", 
      "/Users/pogle/miniconda3/envs/jwebbinar5_test/lib/python3.8/site-packages/glue/core/data.py:1803: FutureWarning: Using a non-tuple sequence for multidimensional indexing is deprecated; use `arr[tuple(seq)]` instead of `arr[seq]`. In the future this will be interpreted as an array index, `arr[np.array(seq)]`, which will result either in an error or a different result.\n", 
      "  full_result[result_slices] = result\n", 
      "/Users/pogle/miniconda3/envs/jwebbinar5_test/lib/python3.8/site-packages/glue/core/data.py:1803: FutureWarning: Using a non-tuple sequence for multidimensional indexing is deprecated; use `arr[tuple(seq)]` instead of `arr[seq]`. In the future this will be interpreted as an array index, `arr[np.array(seq)]`, which will result either in an error or a different result.\n", 
      "  full_result[result_slices] = result\n", 
      "/Users/pogle/miniconda3/envs/jwebbinar5_test/lib/python3.8/site-packages/glue/core/data.py:1803: FutureWarning: Using a non-tuple sequence for multidimensional indexing is deprecated; use `arr[tuple(seq)]` instead of `arr[seq]`. In the future this will be interpreted as an array index, `arr[np.array(seq)]`, which will result either in an error or a different result.\n", 
      "  full_result[result_slices] = result\n", 
      "/Users/pogle/miniconda3/envs/jwebbinar5_test/lib/python3.8/site-packages/glue/core/data.py:1803: FutureWarning: Using a non-tuple sequence for multidimensional indexing is deprecated; use `arr[tuple(seq)]` instead of `arr[seq]`. In the future this will be interpreted as an array index, `arr[np.array(seq)]`, which will result either in an error or a different result.\n", 
      "  full_result[result_slices] = result\n", 
      "/Users/pogle/miniconda3/envs/jwebbinar5_test/lib/python3.8/site-packages/glue/core/data.py:1803: FutureWarning: Using a non-tuple sequence for multidimensional indexing is deprecated; use `arr[tuple(seq)]` instead of `arr[seq]`. In the future this will be interpreted as an array index, `arr[np.array(seq)]`, which will result either in an error or a different result.\n", 
      "  full_result[result_slices] = result\n", 
      "/Users/pogle/miniconda3/envs/jwebbinar5_test/lib/python3.8/site-packages/glue/core/data.py:1803: FutureWarning: Using a non-tuple sequence for multidimensional indexing is deprecated; use `arr[tuple(seq)]` instead of `arr[seq]`. In the future this will be interpreted as an array index, `arr[np.array(seq)]`, which will result either in an error or a different result.\n", 
      "  full_result[result_slices] = result\n", 
      "/Users/pogle/miniconda3/envs/jwebbinar5_test/lib/python3.8/site-packages/glue/core/data.py:1803: FutureWarning: Using a non-tuple sequence for multidimensional indexing is deprecated; use `arr[tuple(seq)]` instead of `arr[seq]`. In the future this will be interpreted as an array index, `arr[np.array(seq)]`, which will result either in an error or a different result.\n", 
      "  full_result[result_slices] = result\n", 
      "/Users/pogle/miniconda3/envs/jwebbinar5_test/lib/python3.8/site-packages/glue/core/data.py:1803: FutureWarning: Using a non-tuple sequence for multidimensional indexing is deprecated; use `arr[tuple(seq)]` instead of `arr[seq]`. In the future this will be interpreted as an array index, `arr[np.array(seq)]`, which will result either in an error or a different result.\n", 
      "  full_result[result_slices] = result\n", 
      "/Users/pogle/miniconda3/envs/jwebbinar5_test/lib/python3.8/site-packages/glue/core/data.py:1803: FutureWarning: Using a non-tuple sequence for multidimensional indexing is deprecated; use `arr[tuple(seq)]` instead of `arr[seq]`. In the future this will be interpreted as an array index, `arr[np.array(seq)]`, which will result either in an error or a different result.\n", 
      "  full_result[result_slices] = result\n", 
      "/Users/pogle/miniconda3/envs/jwebbinar5_test/lib/python3.8/site-packages/glue/core/data.py:1803: FutureWarning: Using a non-tuple sequence for multidimensional indexing is deprecated; use `arr[tuple(seq)]` instead of `arr[seq]`. In the future this will be interpreted as an array index, `arr[np.array(seq)]`, which will result either in an error or a different result.\n", 
      "  full_result[result_slices] = result\n", 
      "/Users/pogle/miniconda3/envs/jwebbinar5_test/lib/python3.8/site-packages/glue/core/data.py:1803: FutureWarning: Using a non-tuple sequence for multidimensional indexing is deprecated; use `arr[tuple(seq)]` instead of `arr[seq]`. In the future this will be interpreted as an array index, `arr[np.array(seq)]`, which will result either in an error or a different result.\n", 
      "  full_result[result_slices] = result\n", 
      "/Users/pogle/miniconda3/envs/jwebbinar5_test/lib/python3.8/site-packages/glue/core/data.py:1803: FutureWarning: Using a non-tuple sequence for multidimensional indexing is deprecated; use `arr[tuple(seq)]` instead of `arr[seq]`. In the future this will be interpreted as an array index, `arr[np.array(seq)]`, which will result either in an error or a different result.\n", 
      "  full_result[result_slices] = result\n"
     ]
    }, 
    {
     "output_type": "stream", 
     "name": "stderr", 
     "text": [
      "/Users/pogle/miniconda3/envs/jwebbinar5_test/lib/python3.8/site-packages/glue/core/data.py:1803: FutureWarning: Using a non-tuple sequence for multidimensional indexing is deprecated; use `arr[tuple(seq)]` instead of `arr[seq]`. In the future this will be interpreted as an array index, `arr[np.array(seq)]`, which will result either in an error or a different result.\n", 
      "  full_result[result_slices] = result\n", 
      "/Users/pogle/miniconda3/envs/jwebbinar5_test/lib/python3.8/site-packages/glue/core/data.py:1803: FutureWarning: Using a non-tuple sequence for multidimensional indexing is deprecated; use `arr[tuple(seq)]` instead of `arr[seq]`. In the future this will be interpreted as an array index, `arr[np.array(seq)]`, which will result either in an error or a different result.\n", 
      "  full_result[result_slices] = result\n", 
      "/Users/pogle/miniconda3/envs/jwebbinar5_test/lib/python3.8/site-packages/glue/core/data.py:1803: FutureWarning: Using a non-tuple sequence for multidimensional indexing is deprecated; use `arr[tuple(seq)]` instead of `arr[seq]`. In the future this will be interpreted as an array index, `arr[np.array(seq)]`, which will result either in an error or a different result.\n", 
      "  full_result[result_slices] = result\n", 
      "/Users/pogle/miniconda3/envs/jwebbinar5_test/lib/python3.8/site-packages/glue/core/data.py:1803: FutureWarning: Using a non-tuple sequence for multidimensional indexing is deprecated; use `arr[tuple(seq)]` instead of `arr[seq]`. In the future this will be interpreted as an array index, `arr[np.array(seq)]`, which will result either in an error or a different result.\n", 
      "  full_result[result_slices] = result\n", 
      "/Users/pogle/miniconda3/envs/jwebbinar5_test/lib/python3.8/site-packages/glue/core/data.py:1803: FutureWarning: Using a non-tuple sequence for multidimensional indexing is deprecated; use `arr[tuple(seq)]` instead of `arr[seq]`. In the future this will be interpreted as an array index, `arr[np.array(seq)]`, which will result either in an error or a different result.\n", 
      "  full_result[result_slices] = result\n", 
      "/Users/pogle/miniconda3/envs/jwebbinar5_test/lib/python3.8/site-packages/glue/core/data.py:1803: FutureWarning: Using a non-tuple sequence for multidimensional indexing is deprecated; use `arr[tuple(seq)]` instead of `arr[seq]`. In the future this will be interpreted as an array index, `arr[np.array(seq)]`, which will result either in an error or a different result.\n", 
      "  full_result[result_slices] = result\n", 
      "/Users/pogle/miniconda3/envs/jwebbinar5_test/lib/python3.8/site-packages/glue/core/data.py:1803: FutureWarning: Using a non-tuple sequence for multidimensional indexing is deprecated; use `arr[tuple(seq)]` instead of `arr[seq]`. In the future this will be interpreted as an array index, `arr[np.array(seq)]`, which will result either in an error or a different result.\n", 
      "  full_result[result_slices] = result\n", 
      "/Users/pogle/miniconda3/envs/jwebbinar5_test/lib/python3.8/site-packages/glue/core/data.py:1803: FutureWarning: Using a non-tuple sequence for multidimensional indexing is deprecated; use `arr[tuple(seq)]` instead of `arr[seq]`. In the future this will be interpreted as an array index, `arr[np.array(seq)]`, which will result either in an error or a different result.\n", 
      "  full_result[result_slices] = result\n", 
      "/Users/pogle/miniconda3/envs/jwebbinar5_test/lib/python3.8/site-packages/glue/core/data.py:1803: FutureWarning: Using a non-tuple sequence for multidimensional indexing is deprecated; use `arr[tuple(seq)]` instead of `arr[seq]`. In the future this will be interpreted as an array index, `arr[np.array(seq)]`, which will result either in an error or a different result.\n", 
      "  full_result[result_slices] = result\n", 
      "/Users/pogle/miniconda3/envs/jwebbinar5_test/lib/python3.8/site-packages/glue/core/data.py:1803: FutureWarning: Using a non-tuple sequence for multidimensional indexing is deprecated; use `arr[tuple(seq)]` instead of `arr[seq]`. In the future this will be interpreted as an array index, `arr[np.array(seq)]`, which will result either in an error or a different result.\n", 
      "  full_result[result_slices] = result\n", 
      "/Users/pogle/miniconda3/envs/jwebbinar5_test/lib/python3.8/site-packages/glue/core/data.py:1803: FutureWarning: Using a non-tuple sequence for multidimensional indexing is deprecated; use `arr[tuple(seq)]` instead of `arr[seq]`. In the future this will be interpreted as an array index, `arr[np.array(seq)]`, which will result either in an error or a different result.\n", 
      "  full_result[result_slices] = result\n", 
      "/Users/pogle/miniconda3/envs/jwebbinar5_test/lib/python3.8/site-packages/glue/core/data.py:1803: FutureWarning: Using a non-tuple sequence for multidimensional indexing is deprecated; use `arr[tuple(seq)]` instead of `arr[seq]`. In the future this will be interpreted as an array index, `arr[np.array(seq)]`, which will result either in an error or a different result.\n", 
      "  full_result[result_slices] = result\n", 
      "/Users/pogle/miniconda3/envs/jwebbinar5_test/lib/python3.8/site-packages/glue/core/data.py:1803: FutureWarning: Using a non-tuple sequence for multidimensional indexing is deprecated; use `arr[tuple(seq)]` instead of `arr[seq]`. In the future this will be interpreted as an array index, `arr[np.array(seq)]`, which will result either in an error or a different result.\n", 
      "  full_result[result_slices] = result\n", 
      "/Users/pogle/miniconda3/envs/jwebbinar5_test/lib/python3.8/site-packages/glue/core/data.py:1803: FutureWarning: Using a non-tuple sequence for multidimensional indexing is deprecated; use `arr[tuple(seq)]` instead of `arr[seq]`. In the future this will be interpreted as an array index, `arr[np.array(seq)]`, which will result either in an error or a different result.\n", 
      "  full_result[result_slices] = result\n", 
      "/Users/pogle/miniconda3/envs/jwebbinar5_test/lib/python3.8/site-packages/glue/core/data.py:1803: FutureWarning: Using a non-tuple sequence for multidimensional indexing is deprecated; use `arr[tuple(seq)]` instead of `arr[seq]`. In the future this will be interpreted as an array index, `arr[np.array(seq)]`, which will result either in an error or a different result.\n", 
      "  full_result[result_slices] = result\n", 
      "/Users/pogle/miniconda3/envs/jwebbinar5_test/lib/python3.8/site-packages/glue/core/data.py:1803: FutureWarning: Using a non-tuple sequence for multidimensional indexing is deprecated; use `arr[tuple(seq)]` instead of `arr[seq]`. In the future this will be interpreted as an array index, `arr[np.array(seq)]`, which will result either in an error or a different result.\n", 
      "  full_result[result_slices] = result\n", 
      "/Users/pogle/miniconda3/envs/jwebbinar5_test/lib/python3.8/site-packages/glue/core/data.py:1803: FutureWarning: Using a non-tuple sequence for multidimensional indexing is deprecated; use `arr[tuple(seq)]` instead of `arr[seq]`. In the future this will be interpreted as an array index, `arr[np.array(seq)]`, which will result either in an error or a different result.\n", 
      "  full_result[result_slices] = result\n", 
      "/Users/pogle/miniconda3/envs/jwebbinar5_test/lib/python3.8/site-packages/glue/core/data.py:1803: FutureWarning: Using a non-tuple sequence for multidimensional indexing is deprecated; use `arr[tuple(seq)]` instead of `arr[seq]`. In the future this will be interpreted as an array index, `arr[np.array(seq)]`, which will result either in an error or a different result.\n", 
      "  full_result[result_slices] = result\n", 
      "/Users/pogle/miniconda3/envs/jwebbinar5_test/lib/python3.8/site-packages/glue/core/data.py:1803: FutureWarning: Using a non-tuple sequence for multidimensional indexing is deprecated; use `arr[tuple(seq)]` instead of `arr[seq]`. In the future this will be interpreted as an array index, `arr[np.array(seq)]`, which will result either in an error or a different result.\n", 
      "  full_result[result_slices] = result\n", 
      "/Users/pogle/miniconda3/envs/jwebbinar5_test/lib/python3.8/site-packages/glue/core/data.py:1803: FutureWarning: Using a non-tuple sequence for multidimensional indexing is deprecated; use `arr[tuple(seq)]` instead of `arr[seq]`. In the future this will be interpreted as an array index, `arr[np.array(seq)]`, which will result either in an error or a different result.\n", 
      "  full_result[result_slices] = result\n", 
      "/Users/pogle/miniconda3/envs/jwebbinar5_test/lib/python3.8/site-packages/glue/core/data.py:1803: FutureWarning: Using a non-tuple sequence for multidimensional indexing is deprecated; use `arr[tuple(seq)]` instead of `arr[seq]`. In the future this will be interpreted as an array index, `arr[np.array(seq)]`, which will result either in an error or a different result.\n", 
      "  full_result[result_slices] = result\n", 
      "/Users/pogle/miniconda3/envs/jwebbinar5_test/lib/python3.8/site-packages/glue/core/data.py:1803: FutureWarning: Using a non-tuple sequence for multidimensional indexing is deprecated; use `arr[tuple(seq)]` instead of `arr[seq]`. In the future this will be interpreted as an array index, `arr[np.array(seq)]`, which will result either in an error or a different result.\n", 
      "  full_result[result_slices] = result\n"
     ]
    }, 
    {
     "output_type": "stream", 
     "name": "stderr", 
     "text": [
      "/Users/pogle/miniconda3/envs/jwebbinar5_test/lib/python3.8/site-packages/glue/core/data.py:1803: FutureWarning: Using a non-tuple sequence for multidimensional indexing is deprecated; use `arr[tuple(seq)]` instead of `arr[seq]`. In the future this will be interpreted as an array index, `arr[np.array(seq)]`, which will result either in an error or a different result.\n", 
      "  full_result[result_slices] = result\n", 
      "/Users/pogle/miniconda3/envs/jwebbinar5_test/lib/python3.8/site-packages/glue/core/data.py:1803: FutureWarning: Using a non-tuple sequence for multidimensional indexing is deprecated; use `arr[tuple(seq)]` instead of `arr[seq]`. In the future this will be interpreted as an array index, `arr[np.array(seq)]`, which will result either in an error or a different result.\n", 
      "  full_result[result_slices] = result\n", 
      "/Users/pogle/miniconda3/envs/jwebbinar5_test/lib/python3.8/site-packages/glue/core/data.py:1803: FutureWarning: Using a non-tuple sequence for multidimensional indexing is deprecated; use `arr[tuple(seq)]` instead of `arr[seq]`. In the future this will be interpreted as an array index, `arr[np.array(seq)]`, which will result either in an error or a different result.\n", 
      "  full_result[result_slices] = result\n", 
      "/Users/pogle/miniconda3/envs/jwebbinar5_test/lib/python3.8/site-packages/glue/core/data.py:1803: FutureWarning: Using a non-tuple sequence for multidimensional indexing is deprecated; use `arr[tuple(seq)]` instead of `arr[seq]`. In the future this will be interpreted as an array index, `arr[np.array(seq)]`, which will result either in an error or a different result.\n", 
      "  full_result[result_slices] = result\n", 
      "/Users/pogle/miniconda3/envs/jwebbinar5_test/lib/python3.8/site-packages/glue/core/data.py:1803: FutureWarning: Using a non-tuple sequence for multidimensional indexing is deprecated; use `arr[tuple(seq)]` instead of `arr[seq]`. In the future this will be interpreted as an array index, `arr[np.array(seq)]`, which will result either in an error or a different result.\n", 
      "  full_result[result_slices] = result\n", 
      "/Users/pogle/miniconda3/envs/jwebbinar5_test/lib/python3.8/site-packages/glue/core/data.py:1803: FutureWarning: Using a non-tuple sequence for multidimensional indexing is deprecated; use `arr[tuple(seq)]` instead of `arr[seq]`. In the future this will be interpreted as an array index, `arr[np.array(seq)]`, which will result either in an error or a different result.\n", 
      "  full_result[result_slices] = result\n", 
      "/Users/pogle/miniconda3/envs/jwebbinar5_test/lib/python3.8/site-packages/glue/core/data.py:1803: FutureWarning: Using a non-tuple sequence for multidimensional indexing is deprecated; use `arr[tuple(seq)]` instead of `arr[seq]`. In the future this will be interpreted as an array index, `arr[np.array(seq)]`, which will result either in an error or a different result.\n", 
      "  full_result[result_slices] = result\n", 
      "/Users/pogle/miniconda3/envs/jwebbinar5_test/lib/python3.8/site-packages/glue/core/data.py:1803: FutureWarning: Using a non-tuple sequence for multidimensional indexing is deprecated; use `arr[tuple(seq)]` instead of `arr[seq]`. In the future this will be interpreted as an array index, `arr[np.array(seq)]`, which will result either in an error or a different result.\n", 
      "  full_result[result_slices] = result\n", 
      "/Users/pogle/miniconda3/envs/jwebbinar5_test/lib/python3.8/site-packages/glue/core/data.py:1803: FutureWarning: Using a non-tuple sequence for multidimensional indexing is deprecated; use `arr[tuple(seq)]` instead of `arr[seq]`. In the future this will be interpreted as an array index, `arr[np.array(seq)]`, which will result either in an error or a different result.\n", 
      "  full_result[result_slices] = result\n", 
      "/Users/pogle/miniconda3/envs/jwebbinar5_test/lib/python3.8/site-packages/glue/core/data.py:1803: FutureWarning: Using a non-tuple sequence for multidimensional indexing is deprecated; use `arr[tuple(seq)]` instead of `arr[seq]`. In the future this will be interpreted as an array index, `arr[np.array(seq)]`, which will result either in an error or a different result.\n", 
      "  full_result[result_slices] = result\n", 
      "/Users/pogle/miniconda3/envs/jwebbinar5_test/lib/python3.8/site-packages/glue/core/data.py:1803: FutureWarning: Using a non-tuple sequence for multidimensional indexing is deprecated; use `arr[tuple(seq)]` instead of `arr[seq]`. In the future this will be interpreted as an array index, `arr[np.array(seq)]`, which will result either in an error or a different result.\n", 
      "  full_result[result_slices] = result\n", 
      "/Users/pogle/miniconda3/envs/jwebbinar5_test/lib/python3.8/site-packages/glue/core/data.py:1803: FutureWarning: Using a non-tuple sequence for multidimensional indexing is deprecated; use `arr[tuple(seq)]` instead of `arr[seq]`. In the future this will be interpreted as an array index, `arr[np.array(seq)]`, which will result either in an error or a different result.\n", 
      "  full_result[result_slices] = result\n", 
      "/Users/pogle/miniconda3/envs/jwebbinar5_test/lib/python3.8/site-packages/glue/core/data.py:1803: FutureWarning: Using a non-tuple sequence for multidimensional indexing is deprecated; use `arr[tuple(seq)]` instead of `arr[seq]`. In the future this will be interpreted as an array index, `arr[np.array(seq)]`, which will result either in an error or a different result.\n", 
      "  full_result[result_slices] = result\n", 
      "/Users/pogle/miniconda3/envs/jwebbinar5_test/lib/python3.8/site-packages/glue/core/data.py:1803: FutureWarning: Using a non-tuple sequence for multidimensional indexing is deprecated; use `arr[tuple(seq)]` instead of `arr[seq]`. In the future this will be interpreted as an array index, `arr[np.array(seq)]`, which will result either in an error or a different result.\n", 
      "  full_result[result_slices] = result\n", 
      "/Users/pogle/miniconda3/envs/jwebbinar5_test/lib/python3.8/site-packages/glue/core/data.py:1803: FutureWarning: Using a non-tuple sequence for multidimensional indexing is deprecated; use `arr[tuple(seq)]` instead of `arr[seq]`. In the future this will be interpreted as an array index, `arr[np.array(seq)]`, which will result either in an error or a different result.\n", 
      "  full_result[result_slices] = result\n", 
      "/Users/pogle/miniconda3/envs/jwebbinar5_test/lib/python3.8/site-packages/glue/core/data.py:1803: FutureWarning: Using a non-tuple sequence for multidimensional indexing is deprecated; use `arr[tuple(seq)]` instead of `arr[seq]`. In the future this will be interpreted as an array index, `arr[np.array(seq)]`, which will result either in an error or a different result.\n", 
      "  full_result[result_slices] = result\n", 
      "/Users/pogle/miniconda3/envs/jwebbinar5_test/lib/python3.8/site-packages/glue/core/data.py:1803: FutureWarning: Using a non-tuple sequence for multidimensional indexing is deprecated; use `arr[tuple(seq)]` instead of `arr[seq]`. In the future this will be interpreted as an array index, `arr[np.array(seq)]`, which will result either in an error or a different result.\n", 
      "  full_result[result_slices] = result\n", 
      "/Users/pogle/miniconda3/envs/jwebbinar5_test/lib/python3.8/site-packages/glue/core/data.py:1803: FutureWarning: Using a non-tuple sequence for multidimensional indexing is deprecated; use `arr[tuple(seq)]` instead of `arr[seq]`. In the future this will be interpreted as an array index, `arr[np.array(seq)]`, which will result either in an error or a different result.\n", 
      "  full_result[result_slices] = result\n", 
      "/Users/pogle/miniconda3/envs/jwebbinar5_test/lib/python3.8/site-packages/glue/core/data.py:1803: FutureWarning: Using a non-tuple sequence for multidimensional indexing is deprecated; use `arr[tuple(seq)]` instead of `arr[seq]`. In the future this will be interpreted as an array index, `arr[np.array(seq)]`, which will result either in an error or a different result.\n", 
      "  full_result[result_slices] = result\n", 
      "/Users/pogle/miniconda3/envs/jwebbinar5_test/lib/python3.8/site-packages/glue/core/data.py:1803: FutureWarning: Using a non-tuple sequence for multidimensional indexing is deprecated; use `arr[tuple(seq)]` instead of `arr[seq]`. In the future this will be interpreted as an array index, `arr[np.array(seq)]`, which will result either in an error or a different result.\n", 
      "  full_result[result_slices] = result\n", 
      "/Users/pogle/miniconda3/envs/jwebbinar5_test/lib/python3.8/site-packages/glue/core/data.py:1803: FutureWarning: Using a non-tuple sequence for multidimensional indexing is deprecated; use `arr[tuple(seq)]` instead of `arr[seq]`. In the future this will be interpreted as an array index, `arr[np.array(seq)]`, which will result either in an error or a different result.\n", 
      "  full_result[result_slices] = result\n", 
      "/Users/pogle/miniconda3/envs/jwebbinar5_test/lib/python3.8/site-packages/glue/core/data.py:1803: FutureWarning: Using a non-tuple sequence for multidimensional indexing is deprecated; use `arr[tuple(seq)]` instead of `arr[seq]`. In the future this will be interpreted as an array index, `arr[np.array(seq)]`, which will result either in an error or a different result.\n", 
      "  full_result[result_slices] = result\n"
     ]
    }, 
    {
     "output_type": "stream", 
     "name": "stderr", 
     "text": [
      "/Users/pogle/miniconda3/envs/jwebbinar5_test/lib/python3.8/site-packages/glue/core/data.py:1803: FutureWarning: Using a non-tuple sequence for multidimensional indexing is deprecated; use `arr[tuple(seq)]` instead of `arr[seq]`. In the future this will be interpreted as an array index, `arr[np.array(seq)]`, which will result either in an error or a different result.\n", 
      "  full_result[result_slices] = result\n", 
      "/Users/pogle/miniconda3/envs/jwebbinar5_test/lib/python3.8/site-packages/glue/core/data.py:1803: FutureWarning: Using a non-tuple sequence for multidimensional indexing is deprecated; use `arr[tuple(seq)]` instead of `arr[seq]`. In the future this will be interpreted as an array index, `arr[np.array(seq)]`, which will result either in an error or a different result.\n", 
      "  full_result[result_slices] = result\n", 
      "/Users/pogle/miniconda3/envs/jwebbinar5_test/lib/python3.8/site-packages/glue/core/data.py:1803: FutureWarning: Using a non-tuple sequence for multidimensional indexing is deprecated; use `arr[tuple(seq)]` instead of `arr[seq]`. In the future this will be interpreted as an array index, `arr[np.array(seq)]`, which will result either in an error or a different result.\n", 
      "  full_result[result_slices] = result\n", 
      "/Users/pogle/miniconda3/envs/jwebbinar5_test/lib/python3.8/site-packages/glue/core/data.py:1803: FutureWarning: Using a non-tuple sequence for multidimensional indexing is deprecated; use `arr[tuple(seq)]` instead of `arr[seq]`. In the future this will be interpreted as an array index, `arr[np.array(seq)]`, which will result either in an error or a different result.\n", 
      "  full_result[result_slices] = result\n", 
      "/Users/pogle/miniconda3/envs/jwebbinar5_test/lib/python3.8/site-packages/glue/core/data.py:1803: FutureWarning: Using a non-tuple sequence for multidimensional indexing is deprecated; use `arr[tuple(seq)]` instead of `arr[seq]`. In the future this will be interpreted as an array index, `arr[np.array(seq)]`, which will result either in an error or a different result.\n", 
      "  full_result[result_slices] = result\n", 
      "/Users/pogle/miniconda3/envs/jwebbinar5_test/lib/python3.8/site-packages/glue/core/data.py:1803: FutureWarning: Using a non-tuple sequence for multidimensional indexing is deprecated; use `arr[tuple(seq)]` instead of `arr[seq]`. In the future this will be interpreted as an array index, `arr[np.array(seq)]`, which will result either in an error or a different result.\n", 
      "  full_result[result_slices] = result\n", 
      "/Users/pogle/miniconda3/envs/jwebbinar5_test/lib/python3.8/site-packages/glue/core/data.py:1803: FutureWarning: Using a non-tuple sequence for multidimensional indexing is deprecated; use `arr[tuple(seq)]` instead of `arr[seq]`. In the future this will be interpreted as an array index, `arr[np.array(seq)]`, which will result either in an error or a different result.\n", 
      "  full_result[result_slices] = result\n", 
      "/Users/pogle/miniconda3/envs/jwebbinar5_test/lib/python3.8/site-packages/glue/core/data.py:1803: FutureWarning: Using a non-tuple sequence for multidimensional indexing is deprecated; use `arr[tuple(seq)]` instead of `arr[seq]`. In the future this will be interpreted as an array index, `arr[np.array(seq)]`, which will result either in an error or a different result.\n", 
      "  full_result[result_slices] = result\n", 
      "/Users/pogle/miniconda3/envs/jwebbinar5_test/lib/python3.8/site-packages/glue/core/data.py:1803: FutureWarning: Using a non-tuple sequence for multidimensional indexing is deprecated; use `arr[tuple(seq)]` instead of `arr[seq]`. In the future this will be interpreted as an array index, `arr[np.array(seq)]`, which will result either in an error or a different result.\n", 
      "  full_result[result_slices] = result\n", 
      "/Users/pogle/miniconda3/envs/jwebbinar5_test/lib/python3.8/site-packages/glue/core/data.py:1803: FutureWarning: Using a non-tuple sequence for multidimensional indexing is deprecated; use `arr[tuple(seq)]` instead of `arr[seq]`. In the future this will be interpreted as an array index, `arr[np.array(seq)]`, which will result either in an error or a different result.\n", 
      "  full_result[result_slices] = result\n", 
      "/Users/pogle/miniconda3/envs/jwebbinar5_test/lib/python3.8/site-packages/glue/core/data.py:1803: FutureWarning: Using a non-tuple sequence for multidimensional indexing is deprecated; use `arr[tuple(seq)]` instead of `arr[seq]`. In the future this will be interpreted as an array index, `arr[np.array(seq)]`, which will result either in an error or a different result.\n", 
      "  full_result[result_slices] = result\n", 
      "/Users/pogle/miniconda3/envs/jwebbinar5_test/lib/python3.8/site-packages/glue/core/data.py:1803: FutureWarning: Using a non-tuple sequence for multidimensional indexing is deprecated; use `arr[tuple(seq)]` instead of `arr[seq]`. In the future this will be interpreted as an array index, `arr[np.array(seq)]`, which will result either in an error or a different result.\n", 
      "  full_result[result_slices] = result\n", 
      "/Users/pogle/miniconda3/envs/jwebbinar5_test/lib/python3.8/site-packages/glue/core/data.py:1803: FutureWarning: Using a non-tuple sequence for multidimensional indexing is deprecated; use `arr[tuple(seq)]` instead of `arr[seq]`. In the future this will be interpreted as an array index, `arr[np.array(seq)]`, which will result either in an error or a different result.\n", 
      "  full_result[result_slices] = result\n", 
      "/Users/pogle/miniconda3/envs/jwebbinar5_test/lib/python3.8/site-packages/glue/core/data.py:1803: FutureWarning: Using a non-tuple sequence for multidimensional indexing is deprecated; use `arr[tuple(seq)]` instead of `arr[seq]`. In the future this will be interpreted as an array index, `arr[np.array(seq)]`, which will result either in an error or a different result.\n", 
      "  full_result[result_slices] = result\n", 
      "/Users/pogle/miniconda3/envs/jwebbinar5_test/lib/python3.8/site-packages/glue/core/data.py:1803: FutureWarning: Using a non-tuple sequence for multidimensional indexing is deprecated; use `arr[tuple(seq)]` instead of `arr[seq]`. In the future this will be interpreted as an array index, `arr[np.array(seq)]`, which will result either in an error or a different result.\n", 
      "  full_result[result_slices] = result\n", 
      "/Users/pogle/miniconda3/envs/jwebbinar5_test/lib/python3.8/site-packages/glue/core/data.py:1803: FutureWarning: Using a non-tuple sequence for multidimensional indexing is deprecated; use `arr[tuple(seq)]` instead of `arr[seq]`. In the future this will be interpreted as an array index, `arr[np.array(seq)]`, which will result either in an error or a different result.\n", 
      "  full_result[result_slices] = result\n", 
      "/Users/pogle/miniconda3/envs/jwebbinar5_test/lib/python3.8/site-packages/glue/core/data.py:1803: FutureWarning: Using a non-tuple sequence for multidimensional indexing is deprecated; use `arr[tuple(seq)]` instead of `arr[seq]`. In the future this will be interpreted as an array index, `arr[np.array(seq)]`, which will result either in an error or a different result.\n", 
      "  full_result[result_slices] = result\n", 
      "/Users/pogle/miniconda3/envs/jwebbinar5_test/lib/python3.8/site-packages/glue/core/data.py:1803: FutureWarning: Using a non-tuple sequence for multidimensional indexing is deprecated; use `arr[tuple(seq)]` instead of `arr[seq]`. In the future this will be interpreted as an array index, `arr[np.array(seq)]`, which will result either in an error or a different result.\n", 
      "  full_result[result_slices] = result\n", 
      "/Users/pogle/miniconda3/envs/jwebbinar5_test/lib/python3.8/site-packages/glue/core/data.py:1803: FutureWarning: Using a non-tuple sequence for multidimensional indexing is deprecated; use `arr[tuple(seq)]` instead of `arr[seq]`. In the future this will be interpreted as an array index, `arr[np.array(seq)]`, which will result either in an error or a different result.\n", 
      "  full_result[result_slices] = result\n", 
      "/Users/pogle/miniconda3/envs/jwebbinar5_test/lib/python3.8/site-packages/glue/core/data.py:1803: FutureWarning: Using a non-tuple sequence for multidimensional indexing is deprecated; use `arr[tuple(seq)]` instead of `arr[seq]`. In the future this will be interpreted as an array index, `arr[np.array(seq)]`, which will result either in an error or a different result.\n", 
      "  full_result[result_slices] = result\n", 
      "/Users/pogle/miniconda3/envs/jwebbinar5_test/lib/python3.8/site-packages/glue/core/data.py:1803: FutureWarning: Using a non-tuple sequence for multidimensional indexing is deprecated; use `arr[tuple(seq)]` instead of `arr[seq]`. In the future this will be interpreted as an array index, `arr[np.array(seq)]`, which will result either in an error or a different result.\n", 
      "  full_result[result_slices] = result\n", 
      "/Users/pogle/miniconda3/envs/jwebbinar5_test/lib/python3.8/site-packages/glue/core/data.py:1803: FutureWarning: Using a non-tuple sequence for multidimensional indexing is deprecated; use `arr[tuple(seq)]` instead of `arr[seq]`. In the future this will be interpreted as an array index, `arr[np.array(seq)]`, which will result either in an error or a different result.\n", 
      "  full_result[result_slices] = result\n"
     ]
    }, 
    {
     "output_type": "stream", 
     "name": "stderr", 
     "text": [
      "/Users/pogle/miniconda3/envs/jwebbinar5_test/lib/python3.8/site-packages/glue/core/data.py:1803: FutureWarning: Using a non-tuple sequence for multidimensional indexing is deprecated; use `arr[tuple(seq)]` instead of `arr[seq]`. In the future this will be interpreted as an array index, `arr[np.array(seq)]`, which will result either in an error or a different result.\n", 
      "  full_result[result_slices] = result\n", 
      "/Users/pogle/miniconda3/envs/jwebbinar5_test/lib/python3.8/site-packages/glue/core/data.py:1803: FutureWarning: Using a non-tuple sequence for multidimensional indexing is deprecated; use `arr[tuple(seq)]` instead of `arr[seq]`. In the future this will be interpreted as an array index, `arr[np.array(seq)]`, which will result either in an error or a different result.\n", 
      "  full_result[result_slices] = result\n", 
      "/Users/pogle/miniconda3/envs/jwebbinar5_test/lib/python3.8/site-packages/glue/core/data.py:1803: FutureWarning: Using a non-tuple sequence for multidimensional indexing is deprecated; use `arr[tuple(seq)]` instead of `arr[seq]`. In the future this will be interpreted as an array index, `arr[np.array(seq)]`, which will result either in an error or a different result.\n", 
      "  full_result[result_slices] = result\n", 
      "/Users/pogle/miniconda3/envs/jwebbinar5_test/lib/python3.8/site-packages/glue/core/data.py:1803: FutureWarning: Using a non-tuple sequence for multidimensional indexing is deprecated; use `arr[tuple(seq)]` instead of `arr[seq]`. In the future this will be interpreted as an array index, `arr[np.array(seq)]`, which will result either in an error or a different result.\n", 
      "  full_result[result_slices] = result\n", 
      "/Users/pogle/miniconda3/envs/jwebbinar5_test/lib/python3.8/site-packages/glue/core/data.py:1803: FutureWarning: Using a non-tuple sequence for multidimensional indexing is deprecated; use `arr[tuple(seq)]` instead of `arr[seq]`. In the future this will be interpreted as an array index, `arr[np.array(seq)]`, which will result either in an error or a different result.\n", 
      "  full_result[result_slices] = result\n", 
      "/Users/pogle/miniconda3/envs/jwebbinar5_test/lib/python3.8/site-packages/glue/core/data.py:1803: FutureWarning: Using a non-tuple sequence for multidimensional indexing is deprecated; use `arr[tuple(seq)]` instead of `arr[seq]`. In the future this will be interpreted as an array index, `arr[np.array(seq)]`, which will result either in an error or a different result.\n", 
      "  full_result[result_slices] = result\n", 
      "/Users/pogle/miniconda3/envs/jwebbinar5_test/lib/python3.8/site-packages/glue/core/data.py:1803: FutureWarning: Using a non-tuple sequence for multidimensional indexing is deprecated; use `arr[tuple(seq)]` instead of `arr[seq]`. In the future this will be interpreted as an array index, `arr[np.array(seq)]`, which will result either in an error or a different result.\n", 
      "  full_result[result_slices] = result\n", 
      "/Users/pogle/miniconda3/envs/jwebbinar5_test/lib/python3.8/site-packages/glue/core/data.py:1803: FutureWarning: Using a non-tuple sequence for multidimensional indexing is deprecated; use `arr[tuple(seq)]` instead of `arr[seq]`. In the future this will be interpreted as an array index, `arr[np.array(seq)]`, which will result either in an error or a different result.\n", 
      "  full_result[result_slices] = result\n", 
      "/Users/pogle/miniconda3/envs/jwebbinar5_test/lib/python3.8/site-packages/glue/core/data.py:1803: FutureWarning: Using a non-tuple sequence for multidimensional indexing is deprecated; use `arr[tuple(seq)]` instead of `arr[seq]`. In the future this will be interpreted as an array index, `arr[np.array(seq)]`, which will result either in an error or a different result.\n", 
      "  full_result[result_slices] = result\n", 
      "/Users/pogle/miniconda3/envs/jwebbinar5_test/lib/python3.8/site-packages/glue/core/data.py:1803: FutureWarning: Using a non-tuple sequence for multidimensional indexing is deprecated; use `arr[tuple(seq)]` instead of `arr[seq]`. In the future this will be interpreted as an array index, `arr[np.array(seq)]`, which will result either in an error or a different result.\n", 
      "  full_result[result_slices] = result\n", 
      "/Users/pogle/miniconda3/envs/jwebbinar5_test/lib/python3.8/site-packages/glue/core/data.py:1803: FutureWarning: Using a non-tuple sequence for multidimensional indexing is deprecated; use `arr[tuple(seq)]` instead of `arr[seq]`. In the future this will be interpreted as an array index, `arr[np.array(seq)]`, which will result either in an error or a different result.\n", 
      "  full_result[result_slices] = result\n", 
      "/Users/pogle/miniconda3/envs/jwebbinar5_test/lib/python3.8/site-packages/glue/core/data.py:1803: FutureWarning: Using a non-tuple sequence for multidimensional indexing is deprecated; use `arr[tuple(seq)]` instead of `arr[seq]`. In the future this will be interpreted as an array index, `arr[np.array(seq)]`, which will result either in an error or a different result.\n", 
      "  full_result[result_slices] = result\n", 
      "/Users/pogle/miniconda3/envs/jwebbinar5_test/lib/python3.8/site-packages/glue/core/data.py:1803: FutureWarning: Using a non-tuple sequence for multidimensional indexing is deprecated; use `arr[tuple(seq)]` instead of `arr[seq]`. In the future this will be interpreted as an array index, `arr[np.array(seq)]`, which will result either in an error or a different result.\n", 
      "  full_result[result_slices] = result\n", 
      "/Users/pogle/miniconda3/envs/jwebbinar5_test/lib/python3.8/site-packages/glue/core/data.py:1803: FutureWarning: Using a non-tuple sequence for multidimensional indexing is deprecated; use `arr[tuple(seq)]` instead of `arr[seq]`. In the future this will be interpreted as an array index, `arr[np.array(seq)]`, which will result either in an error or a different result.\n", 
      "  full_result[result_slices] = result\n", 
      "/Users/pogle/miniconda3/envs/jwebbinar5_test/lib/python3.8/site-packages/glue/core/data.py:1803: FutureWarning: Using a non-tuple sequence for multidimensional indexing is deprecated; use `arr[tuple(seq)]` instead of `arr[seq]`. In the future this will be interpreted as an array index, `arr[np.array(seq)]`, which will result either in an error or a different result.\n", 
      "  full_result[result_slices] = result\n", 
      "/Users/pogle/miniconda3/envs/jwebbinar5_test/lib/python3.8/site-packages/glue/core/data.py:1803: FutureWarning: Using a non-tuple sequence for multidimensional indexing is deprecated; use `arr[tuple(seq)]` instead of `arr[seq]`. In the future this will be interpreted as an array index, `arr[np.array(seq)]`, which will result either in an error or a different result.\n", 
      "  full_result[result_slices] = result\n", 
      "/Users/pogle/miniconda3/envs/jwebbinar5_test/lib/python3.8/site-packages/glue/core/data.py:1803: FutureWarning: Using a non-tuple sequence for multidimensional indexing is deprecated; use `arr[tuple(seq)]` instead of `arr[seq]`. In the future this will be interpreted as an array index, `arr[np.array(seq)]`, which will result either in an error or a different result.\n", 
      "  full_result[result_slices] = result\n", 
      "/Users/pogle/miniconda3/envs/jwebbinar5_test/lib/python3.8/site-packages/glue/core/data.py:1803: FutureWarning: Using a non-tuple sequence for multidimensional indexing is deprecated; use `arr[tuple(seq)]` instead of `arr[seq]`. In the future this will be interpreted as an array index, `arr[np.array(seq)]`, which will result either in an error or a different result.\n", 
      "  full_result[result_slices] = result\n", 
      "/Users/pogle/miniconda3/envs/jwebbinar5_test/lib/python3.8/site-packages/glue/core/data.py:1803: FutureWarning: Using a non-tuple sequence for multidimensional indexing is deprecated; use `arr[tuple(seq)]` instead of `arr[seq]`. In the future this will be interpreted as an array index, `arr[np.array(seq)]`, which will result either in an error or a different result.\n", 
      "  full_result[result_slices] = result\n", 
      "/Users/pogle/miniconda3/envs/jwebbinar5_test/lib/python3.8/site-packages/glue/core/data.py:1803: FutureWarning: Using a non-tuple sequence for multidimensional indexing is deprecated; use `arr[tuple(seq)]` instead of `arr[seq]`. In the future this will be interpreted as an array index, `arr[np.array(seq)]`, which will result either in an error or a different result.\n", 
      "  full_result[result_slices] = result\n", 
      "/Users/pogle/miniconda3/envs/jwebbinar5_test/lib/python3.8/site-packages/glue/core/data.py:1803: FutureWarning: Using a non-tuple sequence for multidimensional indexing is deprecated; use `arr[tuple(seq)]` instead of `arr[seq]`. In the future this will be interpreted as an array index, `arr[np.array(seq)]`, which will result either in an error or a different result.\n", 
      "  full_result[result_slices] = result\n", 
      "/Users/pogle/miniconda3/envs/jwebbinar5_test/lib/python3.8/site-packages/glue/core/data.py:1803: FutureWarning: Using a non-tuple sequence for multidimensional indexing is deprecated; use `arr[tuple(seq)]` instead of `arr[seq]`. In the future this will be interpreted as an array index, `arr[np.array(seq)]`, which will result either in an error or a different result.\n", 
      "  full_result[result_slices] = result\n"
     ]
    }, 
    {
     "output_type": "stream", 
     "name": "stderr", 
     "text": [
      "/Users/pogle/miniconda3/envs/jwebbinar5_test/lib/python3.8/site-packages/glue/core/data.py:1803: FutureWarning: Using a non-tuple sequence for multidimensional indexing is deprecated; use `arr[tuple(seq)]` instead of `arr[seq]`. In the future this will be interpreted as an array index, `arr[np.array(seq)]`, which will result either in an error or a different result.\n", 
      "  full_result[result_slices] = result\n", 
      "/Users/pogle/miniconda3/envs/jwebbinar5_test/lib/python3.8/site-packages/glue/core/data.py:1803: FutureWarning: Using a non-tuple sequence for multidimensional indexing is deprecated; use `arr[tuple(seq)]` instead of `arr[seq]`. In the future this will be interpreted as an array index, `arr[np.array(seq)]`, which will result either in an error or a different result.\n", 
      "  full_result[result_slices] = result\n", 
      "/Users/pogle/miniconda3/envs/jwebbinar5_test/lib/python3.8/site-packages/glue/core/data.py:1803: FutureWarning: Using a non-tuple sequence for multidimensional indexing is deprecated; use `arr[tuple(seq)]` instead of `arr[seq]`. In the future this will be interpreted as an array index, `arr[np.array(seq)]`, which will result either in an error or a different result.\n", 
      "  full_result[result_slices] = result\n", 
      "/Users/pogle/miniconda3/envs/jwebbinar5_test/lib/python3.8/site-packages/glue/core/data.py:1803: FutureWarning: Using a non-tuple sequence for multidimensional indexing is deprecated; use `arr[tuple(seq)]` instead of `arr[seq]`. In the future this will be interpreted as an array index, `arr[np.array(seq)]`, which will result either in an error or a different result.\n", 
      "  full_result[result_slices] = result\n", 
      "/Users/pogle/miniconda3/envs/jwebbinar5_test/lib/python3.8/site-packages/glue/core/data.py:1803: FutureWarning: Using a non-tuple sequence for multidimensional indexing is deprecated; use `arr[tuple(seq)]` instead of `arr[seq]`. In the future this will be interpreted as an array index, `arr[np.array(seq)]`, which will result either in an error or a different result.\n", 
      "  full_result[result_slices] = result\n", 
      "/Users/pogle/miniconda3/envs/jwebbinar5_test/lib/python3.8/site-packages/glue/core/data.py:1803: FutureWarning: Using a non-tuple sequence for multidimensional indexing is deprecated; use `arr[tuple(seq)]` instead of `arr[seq]`. In the future this will be interpreted as an array index, `arr[np.array(seq)]`, which will result either in an error or a different result.\n", 
      "  full_result[result_slices] = result\n", 
      "/Users/pogle/miniconda3/envs/jwebbinar5_test/lib/python3.8/site-packages/glue/core/data.py:1803: FutureWarning: Using a non-tuple sequence for multidimensional indexing is deprecated; use `arr[tuple(seq)]` instead of `arr[seq]`. In the future this will be interpreted as an array index, `arr[np.array(seq)]`, which will result either in an error or a different result.\n", 
      "  full_result[result_slices] = result\n", 
      "/Users/pogle/miniconda3/envs/jwebbinar5_test/lib/python3.8/site-packages/glue/core/data.py:1803: FutureWarning: Using a non-tuple sequence for multidimensional indexing is deprecated; use `arr[tuple(seq)]` instead of `arr[seq]`. In the future this will be interpreted as an array index, `arr[np.array(seq)]`, which will result either in an error or a different result.\n", 
      "  full_result[result_slices] = result\n", 
      "/Users/pogle/miniconda3/envs/jwebbinar5_test/lib/python3.8/site-packages/glue/core/data.py:1803: FutureWarning: Using a non-tuple sequence for multidimensional indexing is deprecated; use `arr[tuple(seq)]` instead of `arr[seq]`. In the future this will be interpreted as an array index, `arr[np.array(seq)]`, which will result either in an error or a different result.\n", 
      "  full_result[result_slices] = result\n", 
      "/Users/pogle/miniconda3/envs/jwebbinar5_test/lib/python3.8/site-packages/glue/core/data.py:1803: FutureWarning: Using a non-tuple sequence for multidimensional indexing is deprecated; use `arr[tuple(seq)]` instead of `arr[seq]`. In the future this will be interpreted as an array index, `arr[np.array(seq)]`, which will result either in an error or a different result.\n", 
      "  full_result[result_slices] = result\n", 
      "/Users/pogle/miniconda3/envs/jwebbinar5_test/lib/python3.8/site-packages/glue/core/data.py:1803: FutureWarning: Using a non-tuple sequence for multidimensional indexing is deprecated; use `arr[tuple(seq)]` instead of `arr[seq]`. In the future this will be interpreted as an array index, `arr[np.array(seq)]`, which will result either in an error or a different result.\n", 
      "  full_result[result_slices] = result\n", 
      "/Users/pogle/miniconda3/envs/jwebbinar5_test/lib/python3.8/site-packages/glue/core/data.py:1803: FutureWarning: Using a non-tuple sequence for multidimensional indexing is deprecated; use `arr[tuple(seq)]` instead of `arr[seq]`. In the future this will be interpreted as an array index, `arr[np.array(seq)]`, which will result either in an error or a different result.\n", 
      "  full_result[result_slices] = result\n", 
      "/Users/pogle/miniconda3/envs/jwebbinar5_test/lib/python3.8/site-packages/glue/core/data.py:1803: FutureWarning: Using a non-tuple sequence for multidimensional indexing is deprecated; use `arr[tuple(seq)]` instead of `arr[seq]`. In the future this will be interpreted as an array index, `arr[np.array(seq)]`, which will result either in an error or a different result.\n", 
      "  full_result[result_slices] = result\n", 
      "/Users/pogle/miniconda3/envs/jwebbinar5_test/lib/python3.8/site-packages/glue/core/data.py:1803: FutureWarning: Using a non-tuple sequence for multidimensional indexing is deprecated; use `arr[tuple(seq)]` instead of `arr[seq]`. In the future this will be interpreted as an array index, `arr[np.array(seq)]`, which will result either in an error or a different result.\n", 
      "  full_result[result_slices] = result\n", 
      "/Users/pogle/miniconda3/envs/jwebbinar5_test/lib/python3.8/site-packages/glue/core/data.py:1803: FutureWarning: Using a non-tuple sequence for multidimensional indexing is deprecated; use `arr[tuple(seq)]` instead of `arr[seq]`. In the future this will be interpreted as an array index, `arr[np.array(seq)]`, which will result either in an error or a different result.\n", 
      "  full_result[result_slices] = result\n", 
      "/Users/pogle/miniconda3/envs/jwebbinar5_test/lib/python3.8/site-packages/glue/core/data.py:1803: FutureWarning: Using a non-tuple sequence for multidimensional indexing is deprecated; use `arr[tuple(seq)]` instead of `arr[seq]`. In the future this will be interpreted as an array index, `arr[np.array(seq)]`, which will result either in an error or a different result.\n", 
      "  full_result[result_slices] = result\n", 
      "/Users/pogle/miniconda3/envs/jwebbinar5_test/lib/python3.8/site-packages/glue/core/data.py:1803: FutureWarning: Using a non-tuple sequence for multidimensional indexing is deprecated; use `arr[tuple(seq)]` instead of `arr[seq]`. In the future this will be interpreted as an array index, `arr[np.array(seq)]`, which will result either in an error or a different result.\n", 
      "  full_result[result_slices] = result\n", 
      "/Users/pogle/miniconda3/envs/jwebbinar5_test/lib/python3.8/site-packages/glue/core/data.py:1803: FutureWarning: Using a non-tuple sequence for multidimensional indexing is deprecated; use `arr[tuple(seq)]` instead of `arr[seq]`. In the future this will be interpreted as an array index, `arr[np.array(seq)]`, which will result either in an error or a different result.\n", 
      "  full_result[result_slices] = result\n", 
      "/Users/pogle/miniconda3/envs/jwebbinar5_test/lib/python3.8/site-packages/glue/core/data.py:1803: FutureWarning: Using a non-tuple sequence for multidimensional indexing is deprecated; use `arr[tuple(seq)]` instead of `arr[seq]`. In the future this will be interpreted as an array index, `arr[np.array(seq)]`, which will result either in an error or a different result.\n", 
      "  full_result[result_slices] = result\n", 
      "/Users/pogle/miniconda3/envs/jwebbinar5_test/lib/python3.8/site-packages/glue/core/data.py:1803: FutureWarning: Using a non-tuple sequence for multidimensional indexing is deprecated; use `arr[tuple(seq)]` instead of `arr[seq]`. In the future this will be interpreted as an array index, `arr[np.array(seq)]`, which will result either in an error or a different result.\n", 
      "  full_result[result_slices] = result\n", 
      "/Users/pogle/miniconda3/envs/jwebbinar5_test/lib/python3.8/site-packages/glue/core/data.py:1803: FutureWarning: Using a non-tuple sequence for multidimensional indexing is deprecated; use `arr[tuple(seq)]` instead of `arr[seq]`. In the future this will be interpreted as an array index, `arr[np.array(seq)]`, which will result either in an error or a different result.\n", 
      "  full_result[result_slices] = result\n", 
      "/Users/pogle/miniconda3/envs/jwebbinar5_test/lib/python3.8/site-packages/glue/core/data.py:1803: FutureWarning: Using a non-tuple sequence for multidimensional indexing is deprecated; use `arr[tuple(seq)]` instead of `arr[seq]`. In the future this will be interpreted as an array index, `arr[np.array(seq)]`, which will result either in an error or a different result.\n", 
      "  full_result[result_slices] = result\n"
     ]
    }, 
    {
     "output_type": "stream", 
     "name": "stderr", 
     "text": [
      "/Users/pogle/miniconda3/envs/jwebbinar5_test/lib/python3.8/site-packages/glue/core/data.py:1803: FutureWarning: Using a non-tuple sequence for multidimensional indexing is deprecated; use `arr[tuple(seq)]` instead of `arr[seq]`. In the future this will be interpreted as an array index, `arr[np.array(seq)]`, which will result either in an error or a different result.\n", 
      "  full_result[result_slices] = result\n", 
      "/Users/pogle/miniconda3/envs/jwebbinar5_test/lib/python3.8/site-packages/glue/core/data.py:1803: FutureWarning: Using a non-tuple sequence for multidimensional indexing is deprecated; use `arr[tuple(seq)]` instead of `arr[seq]`. In the future this will be interpreted as an array index, `arr[np.array(seq)]`, which will result either in an error or a different result.\n", 
      "  full_result[result_slices] = result\n", 
      "/Users/pogle/miniconda3/envs/jwebbinar5_test/lib/python3.8/site-packages/glue/core/data.py:1803: FutureWarning: Using a non-tuple sequence for multidimensional indexing is deprecated; use `arr[tuple(seq)]` instead of `arr[seq]`. In the future this will be interpreted as an array index, `arr[np.array(seq)]`, which will result either in an error or a different result.\n", 
      "  full_result[result_slices] = result\n", 
      "/Users/pogle/miniconda3/envs/jwebbinar5_test/lib/python3.8/site-packages/glue/core/data.py:1803: FutureWarning: Using a non-tuple sequence for multidimensional indexing is deprecated; use `arr[tuple(seq)]` instead of `arr[seq]`. In the future this will be interpreted as an array index, `arr[np.array(seq)]`, which will result either in an error or a different result.\n", 
      "  full_result[result_slices] = result\n", 
      "/Users/pogle/miniconda3/envs/jwebbinar5_test/lib/python3.8/site-packages/glue/core/data.py:1803: FutureWarning: Using a non-tuple sequence for multidimensional indexing is deprecated; use `arr[tuple(seq)]` instead of `arr[seq]`. In the future this will be interpreted as an array index, `arr[np.array(seq)]`, which will result either in an error or a different result.\n", 
      "  full_result[result_slices] = result\n", 
      "/Users/pogle/miniconda3/envs/jwebbinar5_test/lib/python3.8/site-packages/glue/core/data.py:1803: FutureWarning: Using a non-tuple sequence for multidimensional indexing is deprecated; use `arr[tuple(seq)]` instead of `arr[seq]`. In the future this will be interpreted as an array index, `arr[np.array(seq)]`, which will result either in an error or a different result.\n", 
      "  full_result[result_slices] = result\n", 
      "/Users/pogle/miniconda3/envs/jwebbinar5_test/lib/python3.8/site-packages/glue/core/data.py:1803: FutureWarning: Using a non-tuple sequence for multidimensional indexing is deprecated; use `arr[tuple(seq)]` instead of `arr[seq]`. In the future this will be interpreted as an array index, `arr[np.array(seq)]`, which will result either in an error or a different result.\n", 
      "  full_result[result_slices] = result\n", 
      "/Users/pogle/miniconda3/envs/jwebbinar5_test/lib/python3.8/site-packages/glue/core/data.py:1803: FutureWarning: Using a non-tuple sequence for multidimensional indexing is deprecated; use `arr[tuple(seq)]` instead of `arr[seq]`. In the future this will be interpreted as an array index, `arr[np.array(seq)]`, which will result either in an error or a different result.\n", 
      "  full_result[result_slices] = result\n", 
      "/Users/pogle/miniconda3/envs/jwebbinar5_test/lib/python3.8/site-packages/glue/core/data.py:1803: FutureWarning: Using a non-tuple sequence for multidimensional indexing is deprecated; use `arr[tuple(seq)]` instead of `arr[seq]`. In the future this will be interpreted as an array index, `arr[np.array(seq)]`, which will result either in an error or a different result.\n", 
      "  full_result[result_slices] = result\n", 
      "/Users/pogle/miniconda3/envs/jwebbinar5_test/lib/python3.8/site-packages/glue/core/data.py:1803: FutureWarning: Using a non-tuple sequence for multidimensional indexing is deprecated; use `arr[tuple(seq)]` instead of `arr[seq]`. In the future this will be interpreted as an array index, `arr[np.array(seq)]`, which will result either in an error or a different result.\n", 
      "  full_result[result_slices] = result\n", 
      "/Users/pogle/miniconda3/envs/jwebbinar5_test/lib/python3.8/site-packages/glue/core/data.py:1803: FutureWarning: Using a non-tuple sequence for multidimensional indexing is deprecated; use `arr[tuple(seq)]` instead of `arr[seq]`. In the future this will be interpreted as an array index, `arr[np.array(seq)]`, which will result either in an error or a different result.\n", 
      "  full_result[result_slices] = result\n", 
      "/Users/pogle/miniconda3/envs/jwebbinar5_test/lib/python3.8/site-packages/glue/core/data.py:1803: FutureWarning: Using a non-tuple sequence for multidimensional indexing is deprecated; use `arr[tuple(seq)]` instead of `arr[seq]`. In the future this will be interpreted as an array index, `arr[np.array(seq)]`, which will result either in an error or a different result.\n", 
      "  full_result[result_slices] = result\n", 
      "/Users/pogle/miniconda3/envs/jwebbinar5_test/lib/python3.8/site-packages/glue/core/data.py:1803: FutureWarning: Using a non-tuple sequence for multidimensional indexing is deprecated; use `arr[tuple(seq)]` instead of `arr[seq]`. In the future this will be interpreted as an array index, `arr[np.array(seq)]`, which will result either in an error or a different result.\n", 
      "  full_result[result_slices] = result\n", 
      "/Users/pogle/miniconda3/envs/jwebbinar5_test/lib/python3.8/site-packages/glue/core/data.py:1803: FutureWarning: Using a non-tuple sequence for multidimensional indexing is deprecated; use `arr[tuple(seq)]` instead of `arr[seq]`. In the future this will be interpreted as an array index, `arr[np.array(seq)]`, which will result either in an error or a different result.\n", 
      "  full_result[result_slices] = result\n", 
      "/Users/pogle/miniconda3/envs/jwebbinar5_test/lib/python3.8/site-packages/glue/core/data.py:1803: FutureWarning: Using a non-tuple sequence for multidimensional indexing is deprecated; use `arr[tuple(seq)]` instead of `arr[seq]`. In the future this will be interpreted as an array index, `arr[np.array(seq)]`, which will result either in an error or a different result.\n", 
      "  full_result[result_slices] = result\n", 
      "/Users/pogle/miniconda3/envs/jwebbinar5_test/lib/python3.8/site-packages/glue/core/data.py:1803: FutureWarning: Using a non-tuple sequence for multidimensional indexing is deprecated; use `arr[tuple(seq)]` instead of `arr[seq]`. In the future this will be interpreted as an array index, `arr[np.array(seq)]`, which will result either in an error or a different result.\n", 
      "  full_result[result_slices] = result\n", 
      "/Users/pogle/miniconda3/envs/jwebbinar5_test/lib/python3.8/site-packages/glue/core/data.py:1803: FutureWarning: Using a non-tuple sequence for multidimensional indexing is deprecated; use `arr[tuple(seq)]` instead of `arr[seq]`. In the future this will be interpreted as an array index, `arr[np.array(seq)]`, which will result either in an error or a different result.\n", 
      "  full_result[result_slices] = result\n", 
      "/Users/pogle/miniconda3/envs/jwebbinar5_test/lib/python3.8/site-packages/glue/core/data.py:1803: FutureWarning: Using a non-tuple sequence for multidimensional indexing is deprecated; use `arr[tuple(seq)]` instead of `arr[seq]`. In the future this will be interpreted as an array index, `arr[np.array(seq)]`, which will result either in an error or a different result.\n", 
      "  full_result[result_slices] = result\n", 
      "/Users/pogle/miniconda3/envs/jwebbinar5_test/lib/python3.8/site-packages/glue/core/data.py:1803: FutureWarning: Using a non-tuple sequence for multidimensional indexing is deprecated; use `arr[tuple(seq)]` instead of `arr[seq]`. In the future this will be interpreted as an array index, `arr[np.array(seq)]`, which will result either in an error or a different result.\n", 
      "  full_result[result_slices] = result\n", 
      "/Users/pogle/miniconda3/envs/jwebbinar5_test/lib/python3.8/site-packages/glue/core/data.py:1803: FutureWarning: Using a non-tuple sequence for multidimensional indexing is deprecated; use `arr[tuple(seq)]` instead of `arr[seq]`. In the future this will be interpreted as an array index, `arr[np.array(seq)]`, which will result either in an error or a different result.\n", 
      "  full_result[result_slices] = result\n", 
      "/Users/pogle/miniconda3/envs/jwebbinar5_test/lib/python3.8/site-packages/glue/core/data.py:1803: FutureWarning: Using a non-tuple sequence for multidimensional indexing is deprecated; use `arr[tuple(seq)]` instead of `arr[seq]`. In the future this will be interpreted as an array index, `arr[np.array(seq)]`, which will result either in an error or a different result.\n", 
      "  full_result[result_slices] = result\n", 
      "/Users/pogle/miniconda3/envs/jwebbinar5_test/lib/python3.8/site-packages/glue/core/data.py:1803: FutureWarning: Using a non-tuple sequence for multidimensional indexing is deprecated; use `arr[tuple(seq)]` instead of `arr[seq]`. In the future this will be interpreted as an array index, `arr[np.array(seq)]`, which will result either in an error or a different result.\n", 
      "  full_result[result_slices] = result\n"
     ]
    }, 
    {
     "output_type": "stream", 
     "name": "stderr", 
     "text": [
      "/Users/pogle/miniconda3/envs/jwebbinar5_test/lib/python3.8/site-packages/glue/core/data.py:1803: FutureWarning: Using a non-tuple sequence for multidimensional indexing is deprecated; use `arr[tuple(seq)]` instead of `arr[seq]`. In the future this will be interpreted as an array index, `arr[np.array(seq)]`, which will result either in an error or a different result.\n", 
      "  full_result[result_slices] = result\n", 
      "/Users/pogle/miniconda3/envs/jwebbinar5_test/lib/python3.8/site-packages/glue/core/data.py:1803: FutureWarning: Using a non-tuple sequence for multidimensional indexing is deprecated; use `arr[tuple(seq)]` instead of `arr[seq]`. In the future this will be interpreted as an array index, `arr[np.array(seq)]`, which will result either in an error or a different result.\n", 
      "  full_result[result_slices] = result\n", 
      "/Users/pogle/miniconda3/envs/jwebbinar5_test/lib/python3.8/site-packages/glue/core/data.py:1803: FutureWarning: Using a non-tuple sequence for multidimensional indexing is deprecated; use `arr[tuple(seq)]` instead of `arr[seq]`. In the future this will be interpreted as an array index, `arr[np.array(seq)]`, which will result either in an error or a different result.\n", 
      "  full_result[result_slices] = result\n", 
      "/Users/pogle/miniconda3/envs/jwebbinar5_test/lib/python3.8/site-packages/glue/core/data.py:1803: FutureWarning: Using a non-tuple sequence for multidimensional indexing is deprecated; use `arr[tuple(seq)]` instead of `arr[seq]`. In the future this will be interpreted as an array index, `arr[np.array(seq)]`, which will result either in an error or a different result.\n", 
      "  full_result[result_slices] = result\n", 
      "/Users/pogle/miniconda3/envs/jwebbinar5_test/lib/python3.8/site-packages/glue/core/data.py:1803: FutureWarning: Using a non-tuple sequence for multidimensional indexing is deprecated; use `arr[tuple(seq)]` instead of `arr[seq]`. In the future this will be interpreted as an array index, `arr[np.array(seq)]`, which will result either in an error or a different result.\n", 
      "  full_result[result_slices] = result\n", 
      "/Users/pogle/miniconda3/envs/jwebbinar5_test/lib/python3.8/site-packages/glue/core/data.py:1803: FutureWarning: Using a non-tuple sequence for multidimensional indexing is deprecated; use `arr[tuple(seq)]` instead of `arr[seq]`. In the future this will be interpreted as an array index, `arr[np.array(seq)]`, which will result either in an error or a different result.\n", 
      "  full_result[result_slices] = result\n", 
      "/Users/pogle/miniconda3/envs/jwebbinar5_test/lib/python3.8/site-packages/glue/core/data.py:1803: FutureWarning: Using a non-tuple sequence for multidimensional indexing is deprecated; use `arr[tuple(seq)]` instead of `arr[seq]`. In the future this will be interpreted as an array index, `arr[np.array(seq)]`, which will result either in an error or a different result.\n", 
      "  full_result[result_slices] = result\n"
     ]
    }, 
    {
     "ename": "IndexError", 
     "evalue": "list index out of range", 
     "traceback": [
      "\u001b[0;31m---------------------------------------------------------------------------\u001b[0m", 
      "\u001b[0;31mIndexError\u001b[0m                                Traceback (most recent call last)", 
      "\u001b[0;32m~/miniconda3/envs/jwebbinar5_test/lib/python3.8/site-packages/ipywidgets/widgets/widget.py\u001b[0m in \u001b[0;36m_handle_msg\u001b[0;34m(self, msg)\u001b[0m\n\u001b[1;32m    674\u001b[0m                 \u001b[0;32mif\u001b[0m \u001b[0;34m'buffer_paths'\u001b[0m \u001b[0;32min\u001b[0m \u001b[0mdata\u001b[0m\u001b[0;34m:\u001b[0m\u001b[0;34m\u001b[0m\u001b[0;34m\u001b[0m\u001b[0m\n\u001b[1;32m    675\u001b[0m                     \u001b[0m_put_buffers\u001b[0m\u001b[0;34m(\u001b[0m\u001b[0mstate\u001b[0m\u001b[0;34m,\u001b[0m \u001b[0mdata\u001b[0m\u001b[0;34m[\u001b[0m\u001b[0;34m'buffer_paths'\u001b[0m\u001b[0;34m]\u001b[0m\u001b[0;34m,\u001b[0m \u001b[0mmsg\u001b[0m\u001b[0;34m[\u001b[0m\u001b[0;34m'buffers'\u001b[0m\u001b[0;34m]\u001b[0m\u001b[0;34m)\u001b[0m\u001b[0;34m\u001b[0m\u001b[0;34m\u001b[0m\u001b[0m\n\u001b[0;32m--> 676\u001b[0;31m                 \u001b[0mself\u001b[0m\u001b[0;34m.\u001b[0m\u001b[0mset_state\u001b[0m\u001b[0;34m(\u001b[0m\u001b[0mstate\u001b[0m\u001b[0;34m)\u001b[0m\u001b[0;34m\u001b[0m\u001b[0;34m\u001b[0m\u001b[0m\n\u001b[0m\u001b[1;32m    677\u001b[0m \u001b[0;34m\u001b[0m\u001b[0m\n\u001b[1;32m    678\u001b[0m         \u001b[0;31m# Handle a state request.\u001b[0m\u001b[0;34m\u001b[0m\u001b[0;34m\u001b[0m\u001b[0;34m\u001b[0m\u001b[0m\n", 
      "\u001b[0;32m~/miniconda3/envs/jwebbinar5_test/lib/python3.8/site-packages/ipywidgets/widgets/widget.py\u001b[0m in \u001b[0;36mset_state\u001b[0;34m(self, sync_data)\u001b[0m\n\u001b[1;32m    543\u001b[0m                     from_json = self.trait_metadata(name, 'from_json',\n\u001b[1;32m    544\u001b[0m                                                     self._trait_from_json)\n\u001b[0;32m--> 545\u001b[0;31m                     \u001b[0mself\u001b[0m\u001b[0;34m.\u001b[0m\u001b[0mset_trait\u001b[0m\u001b[0;34m(\u001b[0m\u001b[0mname\u001b[0m\u001b[0;34m,\u001b[0m \u001b[0mfrom_json\u001b[0m\u001b[0;34m(\u001b[0m\u001b[0msync_data\u001b[0m\u001b[0;34m[\u001b[0m\u001b[0mname\u001b[0m\u001b[0;34m]\u001b[0m\u001b[0;34m,\u001b[0m \u001b[0mself\u001b[0m\u001b[0;34m)\u001b[0m\u001b[0;34m)\u001b[0m\u001b[0;34m\u001b[0m\u001b[0;34m\u001b[0m\u001b[0m\n\u001b[0m\u001b[1;32m    546\u001b[0m \u001b[0;34m\u001b[0m\u001b[0m\n\u001b[1;32m    547\u001b[0m     \u001b[0;32mdef\u001b[0m \u001b[0msend\u001b[0m\u001b[0;34m(\u001b[0m\u001b[0mself\u001b[0m\u001b[0;34m,\u001b[0m \u001b[0mcontent\u001b[0m\u001b[0;34m,\u001b[0m \u001b[0mbuffers\u001b[0m\u001b[0;34m=\u001b[0m\u001b[0;32mNone\u001b[0m\u001b[0;34m)\u001b[0m\u001b[0;34m:\u001b[0m\u001b[0;34m\u001b[0m\u001b[0;34m\u001b[0m\u001b[0m\n", 
      "\u001b[0;32m~/miniconda3/envs/jwebbinar5_test/lib/python3.8/site-packages/glue_jupyter/state_traitlets_helpers.py\u001b[0m in \u001b[0;36mupdate_state_from_json\u001b[0;34m(self, json, widget)\u001b[0m\n\u001b[1;32m    149\u001b[0m         \u001b[0mself\u001b[0m\u001b[0;34m.\u001b[0m\u001b[0m_block_on_state_change\u001b[0m \u001b[0;34m=\u001b[0m \u001b[0;32mTrue\u001b[0m\u001b[0;34m\u001b[0m\u001b[0;34m\u001b[0m\u001b[0m\n\u001b[1;32m    150\u001b[0m         \u001b[0;32mtry\u001b[0m\u001b[0;34m:\u001b[0m\u001b[0;34m\u001b[0m\u001b[0;34m\u001b[0m\u001b[0m\n\u001b[0;32m--> 151\u001b[0;31m             \u001b[0mupdate_state_from_dict\u001b[0m\u001b[0;34m(\u001b[0m\u001b[0mstate\u001b[0m\u001b[0;34m,\u001b[0m \u001b[0mjson\u001b[0m\u001b[0;34m)\u001b[0m\u001b[0;34m\u001b[0m\u001b[0;34m\u001b[0m\u001b[0m\n\u001b[0m\u001b[1;32m    152\u001b[0m         \u001b[0;32mfinally\u001b[0m\u001b[0;34m:\u001b[0m\u001b[0;34m\u001b[0m\u001b[0;34m\u001b[0m\u001b[0m\n\u001b[1;32m    153\u001b[0m             \u001b[0mself\u001b[0m\u001b[0;34m.\u001b[0m\u001b[0m_block_on_state_change\u001b[0m \u001b[0;34m=\u001b[0m \u001b[0;32mFalse\u001b[0m\u001b[0;34m\u001b[0m\u001b[0;34m\u001b[0m\u001b[0m\n", 
      "\u001b[0;32m~/miniconda3/envs/jwebbinar5_test/lib/python3.8/site-packages/glue_jupyter/state_traitlets_helpers.py\u001b[0m in \u001b[0;36mupdate_state_from_dict\u001b[0;34m(state, changes)\u001b[0m\n\u001b[1;32m     49\u001b[0m                         \u001b[0mupdate_state_from_dict\u001b[0m\u001b[0;34m(\u001b[0m\u001b[0mcallback_list\u001b[0m\u001b[0;34m[\u001b[0m\u001b[0mi\u001b[0m\u001b[0;34m]\u001b[0m\u001b[0;34m,\u001b[0m \u001b[0mchanges\u001b[0m\u001b[0;34m[\u001b[0m\u001b[0mname\u001b[0m\u001b[0;34m]\u001b[0m\u001b[0;34m[\u001b[0m\u001b[0mi\u001b[0m\u001b[0;34m]\u001b[0m\u001b[0;34m)\u001b[0m\u001b[0;34m\u001b[0m\u001b[0;34m\u001b[0m\u001b[0m\n\u001b[1;32m     50\u001b[0m                     \u001b[0;32melse\u001b[0m\u001b[0;34m:\u001b[0m\u001b[0;34m\u001b[0m\u001b[0;34m\u001b[0m\u001b[0m\n\u001b[0;32m---> 51\u001b[0;31m                         if (changes[name][i] != MAGIC_IGNORE and\n\u001b[0m\u001b[1;32m     52\u001b[0m                                 callback_list[i] != changes[name][i]):\n\u001b[1;32m     53\u001b[0m                             \u001b[0mcallback_list\u001b[0m\u001b[0;34m[\u001b[0m\u001b[0mi\u001b[0m\u001b[0;34m]\u001b[0m \u001b[0;34m=\u001b[0m \u001b[0mchanges\u001b[0m\u001b[0;34m[\u001b[0m\u001b[0mname\u001b[0m\u001b[0;34m]\u001b[0m\u001b[0;34m[\u001b[0m\u001b[0mi\u001b[0m\u001b[0;34m]\u001b[0m\u001b[0;34m\u001b[0m\u001b[0;34m\u001b[0m\u001b[0m\n", 
      "\u001b[0;31mIndexError\u001b[0m: list index out of range"
     ], 
     "output_type": "error"
    }, 
    {
     "output_type": "stream", 
     "name": "stderr", 
     "text": [
      "/Users/pogle/miniconda3/envs/jwebbinar5_test/lib/python3.8/site-packages/glue/core/data.py:1803: FutureWarning: Using a non-tuple sequence for multidimensional indexing is deprecated; use `arr[tuple(seq)]` instead of `arr[seq]`. In the future this will be interpreted as an array index, `arr[np.array(seq)]`, which will result either in an error or a different result.\n", 
      "  full_result[result_slices] = result\n", 
      "/Users/pogle/miniconda3/envs/jwebbinar5_test/lib/python3.8/site-packages/glue/core/data.py:1803: FutureWarning: Using a non-tuple sequence for multidimensional indexing is deprecated; use `arr[tuple(seq)]` instead of `arr[seq]`. In the future this will be interpreted as an array index, `arr[np.array(seq)]`, which will result either in an error or a different result.\n", 
      "  full_result[result_slices] = result\n", 
      "/Users/pogle/miniconda3/envs/jwebbinar5_test/lib/python3.8/site-packages/glue/core/data.py:1803: FutureWarning: Using a non-tuple sequence for multidimensional indexing is deprecated; use `arr[tuple(seq)]` instead of `arr[seq]`. In the future this will be interpreted as an array index, `arr[np.array(seq)]`, which will result either in an error or a different result.\n", 
      "  full_result[result_slices] = result\n", 
      "/Users/pogle/miniconda3/envs/jwebbinar5_test/lib/python3.8/site-packages/glue/core/data.py:1803: FutureWarning: Using a non-tuple sequence for multidimensional indexing is deprecated; use `arr[tuple(seq)]` instead of `arr[seq]`. In the future this will be interpreted as an array index, `arr[np.array(seq)]`, which will result either in an error or a different result.\n", 
      "  full_result[result_slices] = result\n"
     ]
    }
   ], 
   "metadata": {
    "scrolled": false
   }
  }, 
  {
   "source": [
    "### UI Instructions:\n", 
    "#### Task 1:  Load the cube and view it\n", 
    "* Load the MIRI MRS datacube into Cubeviz using the next code cell below\n", 
    "* Open the Display menu \n", 
    "* In the Layer tab, change the stretch to Logarithmic, 95 percentile to see the target PSF wings.\n", 
    "* Scrub through the cube using the Slice slider.\n", 
    "\n", 
    "#### Task 2: Select a spectral region for further analysis\n", 
    "* Select 'No selection (create new)' in the Subsets menu in the Cubeviz top banner.\n", 
    "* Select a spectral subset region in spectrum viewer, using the region selection tool under the Tools icon, centered on a spectral feature of interest (e.g., the 10.5 micron PAH feature)\n", 
    "\n", 
    "#### Task 3: Extract an image of a spectral feature using the Moment Maps plugin\n", 
    "* Find the Moment Maps data analysis Plugin by clicking the 'Lego' icon at upper right.\n", 
    "* Select a dataset with the Data dropdown (e.g. SCI extension of our cube).\n", 
    "* Select a spectral region in the Spectral Region dropdown (e.g. Subset 1).\n", 
    "* Enter the Moment (0 for flux, 1 for centroid, 2 for dispersion).\n", 
    "* Press 'Calculate' \n", 
    "* Use the 2nd cube/image viewer to display the moment 0 image. Click the \"Data\" button, deselect the 'ERR' extension checkbox, and select the 'Moment' dataset that was generated by the previous step. \n", 
    "* Adjust the Stretch in the viewer and change the colormap to inferno\n", 
    "\n", 
    "#### Task 4: Model the continuum + broad dust features (PAHs) \n", 
    "* Open the Model Fitting Plugin and resize the tray to make the model parameters readable\n", 
    "* Select the dataset (SCI extension of our cube)\n", 
    "* Create 3 model components: Linear Model L, Gaussian Model G1, and Gaussian Model G2, with the following starting parameters: \n", 
    "L: Leave starting parameter guess as is    \n", 
    "G1: ampl = 3.5E5 MJy/sr, stddev = 5e-8 m, mean = 1.05E-5 m = fixed  (10.5 um)\n", 
    "G2: ampl = 1.5E6 MJy/sr, stddev = 1e-7 m = fixed, mean = 1.126E-5 m = fixed (11.25 um)\n", 
    "* Enter the model to fit in the Model Equation Editor: L + G1 + G2\n", 
    "* Enter \"Model\" as the Model Label\n", 
    "* Press Fit\n", 
    "* Press Apply to Cube\n", 
    "* Deselect all data in cube viewer 2, then select Model [Cube] to display the modeled continuum + PAH cube\n", 
    "* Scrub through the Model cube\n", 
    "\n", 
    "#### Task 5: Subtract the continuum + PAH model cube from the data cube \n", 
    "* Run the continuum subtraction cell below, which reads in the science data, gets the model cube from the middle viewer, subtracts the continuum, then loads the continuum-subtracted cube into Cubeviz\n", 
    "* The continuum-subtracted spectrum appears in the spectrum viewer on loading.\n", 
    "\n", 
    "#### Task 6: Extract a velocity map from the continuum-subtracted data using the Moment Maps plugin\n", 
    "* Open the Moment Maps Plugin\n", 
    "* Select the continuum-subtracted dataset (Unknown HDU Object [Sci])\n", 
    "* Follow the procedure for Task 3; this time for Moment 1\n", 
    "* Use the 3rd cube/image viewer to display the Moment 1 image\n", 
    "\n"
   ], 
   "cell_type": "markdown", 
   "metadata": {}
  }, 
  {
   "source": [
    "## Load Science Datacube into Cubeviz"
   ], 
   "cell_type": "markdown", 
   "metadata": {}
  }, 
  {
   "execution_count": 3, 
   "cell_type": "code", 
   "source": [
    "miricube_file= \"l3_ch2-long_s3d.fits\"\n", 
    "cubeviz.app.load_data(miricube_file)"
   ], 
   "outputs": [
    {
     "output_type": "stream", 
     "name": "stderr", 
     "text": [
      "WARNING: No spectral axis found; header may be non-compliant. [spectral_cube.cube_utils]\n", 
      "WARNING:astropy:No spectral axis found; header may be non-compliant.\n", 
      "WARNING: No spectral axis found; header may be non-compliant. [spectral_cube.cube_utils]\n", 
      "WARNING:astropy:No spectral axis found; header may be non-compliant.\n", 
      "WARNING: No spectral axis found; header may be non-compliant. [spectral_cube.cube_utils]\n", 
      "WARNING:astropy:No spectral axis found; header may be non-compliant.\n", 
      "WARNING: No spectral axis found; header may be non-compliant. [spectral_cube.cube_utils]\n", 
      "WARNING:astropy:No spectral axis found; header may be non-compliant.\n", 
      "WARNING: No spectral axis found; header may be non-compliant. [spectral_cube.cube_utils]\n", 
      "WARNING:astropy:No spectral axis found; header may be non-compliant.\n", 
      "WARNING: No spectral axis found; header may be non-compliant. [spectral_cube.cube_utils]\n", 
      "WARNING:astropy:No spectral axis found; header may be non-compliant.\n"
     ]
    }
   ], 
   "metadata": {
    "scrolled": true
   }
  }, 
  {
   "source": [
    "## Continuum Subtraction"
   ], 
   "cell_type": "markdown", 
   "metadata": {}
  }, 
  {
   "execution_count": 4, 
   "cell_type": "code", 
   "source": [
    "# Open and inspect the science data with astropy.fits.open\n", 
    "with fits.open(miricube_file, memmap=False) as miricube:\n", 
    "    miricube.info()\n", 
    "    sci = miricube['SCI'].data\n", 
    "    #Retrieve the continuum + PAH model cube from middle cube viewer in Cubeviz\n", 
    "    modeled_cube = cubeviz.app.get_data_from_viewer(\"uncert-viewer\", \"Model [Cube] 1\")\n", 
    "    #Inspect the data dictionary and retrieve the continuum model flux cube\n", 
    "    print(modeled_cube)\n", 
    "    model_flux = modeled_cube[\"flux\"]\n", 
    "    #Subtract the continuum model from the science data\n", 
    "    sci_contsub = sci-model_flux\n", 
    "    #Load the continuum subtracted data back into Cubeviz\n", 
    "    miricube['SCI'].data = sci_contsub\n", 
    "    cubeviz.app.load_data(miricube)\n"
   ], 
   "outputs": [
    {
     "output_type": "stream", 
     "name": "stdout", 
     "text": [
      "Filename: l3_ch2-long_s3d.fits\n", 
      "No.    Name      Ver    Type      Cards   Dimensions   Format\n", 
      "  0  PRIMARY       1 PrimaryHDU     245   ()      \n", 
      "  1  SCI           1 ImageHDU        67   (45, 37, 855)   float32   \n", 
      "  2  ERR           1 ImageHDU        12   (45, 37, 855)   float32   \n", 
      "  3  DQ            1 ImageHDU        12   (45, 37, 855)   int32 (rescales to uint32)   \n", 
      "  4  WMAP          1 ImageHDU        10   (45, 37, 855)   float32   \n", 
      "  5  HDRTAB        1 BinTableHDU    788   4R x 389C   [23A, 24A, D, 46A, 9A, D, D, 5A, 7A, 13A, 4A, D, D, D, D, D, 4A, 7A, D, D, D, D, D, D, 10A, 15A, D, D, 26A, 11A, 5A, 3A, 3A, 2A, 1A, 2A, 5A, D, D, D, D, D, D, D, D, D, D, D, D, D, D, D, D, D, D, D, D, D, D, D, D, D, D, 4A, 11A, D, 2A, D, D, D, D, 4A, D, D, D, 4A, D, D, D, D, D, D, 4A, D, D, D, D, D, D, D, D, D, D, D, 7A, D, D, D, D, D, D, D, D, D, 4A, D, D, D, K, D, D, K, K, D, D, D, K, D, D, K, D, D, D, D, D, D, D, D, D, K, L, D, D, D, D, D, D, D, D, D, D, 4A, K, K, K, K, K, K, D, D, D, D, D, D, D, D, D, D, D, D, D, D, D, D, D, D, D, D, D, D, D, D, D, D, D, D, D, D, D, D, D, D, D, D, D, D, D, D, D, D, D, D, D, D, D, D, D, D, D, D, D, D, D, D, D, D, D, D, D, D, D, D, D, D, D, D, D, D, D, D, D, D, D, D, D, D, D, D, D, D, D, D, 6A, 14A, 3A, D, D, 3A, 3A, D, 31A, 3A, 37A, D, D, 3A, 31A, 3A, 3A, 3A, 3A, 3A, 33A, 31A, 3A, 3A, 3A, 30A, D, 36A, 31A, 3A, 3A, D, D, 33A, D, 36A, D, 34A, D, D, 3A, 31A, 37A, 34A, D, D, D, D, D, D, D, D, 42A, D, D, D, D, 8A, D, D, D, D, D, 8A, 8A, D, D, D, D, 8A, 8A, 8A, 7A, 7A, D, D, 8A, 8A, D, 8A, 8A, D, D, D, D, D, D, 8A, 8A, D, D, 7A, 8A, 8A, D, D, 8A, D, 8A, D, D, D, D, D, D, D, D, 6A, D, D, D, D, 4A, D, D, D, K, K, K, K, D, D, D, 1A, 1A, 1A, 1A, 1A, 1A, D, D, D, D, D, D, D, D, D, D, D, D, D, D, D, D, 115A, D, D, K, D, D, D, K, D, D, D, D]   \n", 
      "  6  ASDF          1 BinTableHDU     11   1R x 1C   [31055B]   \n"
     ]
    }, 
    {
     "output_type": "stream", 
     "name": "stderr", 
     "text": [
      "WARNING: No spectral axis found; header may be non-compliant. [spectral_cube.cube_utils]\n", 
      "WARNING:astropy:No spectral axis found; header may be non-compliant.\n", 
      "WARNING: No spectral axis found; header may be non-compliant. [spectral_cube.cube_utils]\n", 
      "WARNING:astropy:No spectral axis found; header may be non-compliant.\n", 
      "WARNING: No spectral axis found; header may be non-compliant. [spectral_cube.cube_utils]\n", 
      "WARNING:astropy:No spectral axis found; header may be non-compliant.\n"
     ]
    }, 
    {
     "output_type": "stream", 
     "name": "stdout", 
     "text": [
      "Data Set: Model [Cube] 1\n", 
      "Number of dimensions: 3\n", 
      "Shape: 855 x 37 x 45\n", 
      "Main components:\n", 
      " - flux [MJy / sr]\n", 
      "Coordinate components:\n", 
      " - Pixel Axis 0 [z]\n", 
      " - Pixel Axis 1 [y]\n", 
      " - Pixel Axis 2 [x]\n", 
      " - Wave [m]\n", 
      " - Declination [deg]\n", 
      " - Right Ascension [deg]\n"
     ]
    }, 
    {
     "output_type": "stream", 
     "name": "stderr", 
     "text": [
      "/Users/pogle/miniconda3/envs/jwebbinar5_test/lib/python3.8/site-packages/glue/core/data.py:1803: FutureWarning: Using a non-tuple sequence for multidimensional indexing is deprecated; use `arr[tuple(seq)]` instead of `arr[seq]`. In the future this will be interpreted as an array index, `arr[np.array(seq)]`, which will result either in an error or a different result.\n", 
      "  full_result[result_slices] = result\n", 
      "/Users/pogle/miniconda3/envs/jwebbinar5_test/lib/python3.8/site-packages/glue/core/data.py:1803: FutureWarning: Using a non-tuple sequence for multidimensional indexing is deprecated; use `arr[tuple(seq)]` instead of `arr[seq]`. In the future this will be interpreted as an array index, `arr[np.array(seq)]`, which will result either in an error or a different result.\n", 
      "  full_result[result_slices] = result\n", 
      "/Users/pogle/miniconda3/envs/jwebbinar5_test/lib/python3.8/site-packages/glue/core/data.py:1803: FutureWarning: Using a non-tuple sequence for multidimensional indexing is deprecated; use `arr[tuple(seq)]` instead of `arr[seq]`. In the future this will be interpreted as an array index, `arr[np.array(seq)]`, which will result either in an error or a different result.\n", 
      "  full_result[result_slices] = result\n", 
      "/Users/pogle/miniconda3/envs/jwebbinar5_test/lib/python3.8/site-packages/glue/core/data.py:1803: FutureWarning: Using a non-tuple sequence for multidimensional indexing is deprecated; use `arr[tuple(seq)]` instead of `arr[seq]`. In the future this will be interpreted as an array index, `arr[np.array(seq)]`, which will result either in an error or a different result.\n", 
      "  full_result[result_slices] = result\n", 
      "/Users/pogle/miniconda3/envs/jwebbinar5_test/lib/python3.8/site-packages/glue/core/data.py:1803: FutureWarning: Using a non-tuple sequence for multidimensional indexing is deprecated; use `arr[tuple(seq)]` instead of `arr[seq]`. In the future this will be interpreted as an array index, `arr[np.array(seq)]`, which will result either in an error or a different result.\n", 
      "  full_result[result_slices] = result\n", 
      "/Users/pogle/miniconda3/envs/jwebbinar5_test/lib/python3.8/site-packages/glue/core/data.py:1803: FutureWarning: Using a non-tuple sequence for multidimensional indexing is deprecated; use `arr[tuple(seq)]` instead of `arr[seq]`. In the future this will be interpreted as an array index, `arr[np.array(seq)]`, which will result either in an error or a different result.\n", 
      "  full_result[result_slices] = result\n", 
      "/Users/pogle/miniconda3/envs/jwebbinar5_test/lib/python3.8/site-packages/glue/core/data.py:1803: FutureWarning: Using a non-tuple sequence for multidimensional indexing is deprecated; use `arr[tuple(seq)]` instead of `arr[seq]`. In the future this will be interpreted as an array index, `arr[np.array(seq)]`, which will result either in an error or a different result.\n", 
      "  full_result[result_slices] = result\n", 
      "/Users/pogle/miniconda3/envs/jwebbinar5_test/lib/python3.8/site-packages/glue/core/data.py:1803: FutureWarning: Using a non-tuple sequence for multidimensional indexing is deprecated; use `arr[tuple(seq)]` instead of `arr[seq]`. In the future this will be interpreted as an array index, `arr[np.array(seq)]`, which will result either in an error or a different result.\n", 
      "  full_result[result_slices] = result\n", 
      "/Users/pogle/miniconda3/envs/jwebbinar5_test/lib/python3.8/site-packages/glue/core/data.py:1803: FutureWarning: Using a non-tuple sequence for multidimensional indexing is deprecated; use `arr[tuple(seq)]` instead of `arr[seq]`. In the future this will be interpreted as an array index, `arr[np.array(seq)]`, which will result either in an error or a different result.\n", 
      "  full_result[result_slices] = result\n", 
      "/Users/pogle/miniconda3/envs/jwebbinar5_test/lib/python3.8/site-packages/glue/core/data.py:1803: FutureWarning: Using a non-tuple sequence for multidimensional indexing is deprecated; use `arr[tuple(seq)]` instead of `arr[seq]`. In the future this will be interpreted as an array index, `arr[np.array(seq)]`, which will result either in an error or a different result.\n", 
      "  full_result[result_slices] = result\n", 
      "/Users/pogle/miniconda3/envs/jwebbinar5_test/lib/python3.8/site-packages/glue/core/data.py:1803: FutureWarning: Using a non-tuple sequence for multidimensional indexing is deprecated; use `arr[tuple(seq)]` instead of `arr[seq]`. In the future this will be interpreted as an array index, `arr[np.array(seq)]`, which will result either in an error or a different result.\n", 
      "  full_result[result_slices] = result\n", 
      "WARNING: No spectral axis found; header may be non-compliant. [spectral_cube.cube_utils]\n", 
      "WARNING:astropy:No spectral axis found; header may be non-compliant.\n", 
      "/Users/pogle/miniconda3/envs/jwebbinar5_test/lib/python3.8/site-packages/glue/core/data.py:1803: FutureWarning: Using a non-tuple sequence for multidimensional indexing is deprecated; use `arr[tuple(seq)]` instead of `arr[seq]`. In the future this will be interpreted as an array index, `arr[np.array(seq)]`, which will result either in an error or a different result.\n", 
      "  full_result[result_slices] = result\n", 
      "/Users/pogle/miniconda3/envs/jwebbinar5_test/lib/python3.8/site-packages/glue/core/data.py:1803: FutureWarning: Using a non-tuple sequence for multidimensional indexing is deprecated; use `arr[tuple(seq)]` instead of `arr[seq]`. In the future this will be interpreted as an array index, `arr[np.array(seq)]`, which will result either in an error or a different result.\n", 
      "  full_result[result_slices] = result\n", 
      "WARNING: No spectral axis found; header may be non-compliant. [spectral_cube.cube_utils]\n", 
      "WARNING:astropy:No spectral axis found; header may be non-compliant.\n", 
      "/Users/pogle/miniconda3/envs/jwebbinar5_test/lib/python3.8/site-packages/glue/core/data.py:1803: FutureWarning: Using a non-tuple sequence for multidimensional indexing is deprecated; use `arr[tuple(seq)]` instead of `arr[seq]`. In the future this will be interpreted as an array index, `arr[np.array(seq)]`, which will result either in an error or a different result.\n", 
      "  full_result[result_slices] = result\n", 
      "/Users/pogle/miniconda3/envs/jwebbinar5_test/lib/python3.8/site-packages/glue/core/data.py:1803: FutureWarning: Using a non-tuple sequence for multidimensional indexing is deprecated; use `arr[tuple(seq)]` instead of `arr[seq]`. In the future this will be interpreted as an array index, `arr[np.array(seq)]`, which will result either in an error or a different result.\n", 
      "  full_result[result_slices] = result\n", 
      "WARNING: No spectral axis found; header may be non-compliant. [spectral_cube.cube_utils]\n", 
      "WARNING:astropy:No spectral axis found; header may be non-compliant.\n", 
      "/Users/pogle/miniconda3/envs/jwebbinar5_test/lib/python3.8/site-packages/glue/core/data.py:1803: FutureWarning: Using a non-tuple sequence for multidimensional indexing is deprecated; use `arr[tuple(seq)]` instead of `arr[seq]`. In the future this will be interpreted as an array index, `arr[np.array(seq)]`, which will result either in an error or a different result.\n", 
      "  full_result[result_slices] = result\n", 
      "/Users/pogle/miniconda3/envs/jwebbinar5_test/lib/python3.8/site-packages/glue/core/data.py:1803: FutureWarning: Using a non-tuple sequence for multidimensional indexing is deprecated; use `arr[tuple(seq)]` instead of `arr[seq]`. In the future this will be interpreted as an array index, `arr[np.array(seq)]`, which will result either in an error or a different result.\n", 
      "  full_result[result_slices] = result\n"
     ]
    }
   ], 
   "metadata": {
    "scrolled": false
   }
  }, 
  {
   "source": [
    "## Inspect the continuum model parameters"
   ], 
   "cell_type": "markdown", 
   "metadata": {}
  }, 
  {
   "execution_count": null, 
   "cell_type": "code", 
   "source": [
    "#c_model = cubeviz.get_models(model_label=\"Model1\")\n", 
    "#print(c_model)\n", 
    "#print(c_model[\"slope_0\"])\n", 
    "cubeviz.get_models()"
   ], 
   "outputs": [], 
   "metadata": {}
  }, 
  {
   "source": [
    "## NIRSpec IFU"
   ], 
   "cell_type": "markdown", 
   "metadata": {}
  }, 
  {
   "execution_count": null, 
   "cell_type": "code", 
   "source": [
    "cubeviz2 = CubeViz()\n", 
    "cubeviz2.app"
   ], 
   "outputs": [], 
   "metadata": {}
  }, 
  {
   "execution_count": null, 
   "cell_type": "code", 
   "source": [
    "#Download the cube data from Box\n", 
    "filename = \"https://stsci.box.com/shared/static/ff0bj31acot1272x5qq2clbmto3s6v4f.fits\"\n", 
    "ifucube_file = download_file(filename, cache=True)\n", 
    "cubeviz2.app.load_data(ifucube_file)"
   ], 
   "outputs": [], 
   "metadata": {}
  }, 
  {
   "source": [
    "## MANGA IFU"
   ], 
   "cell_type": "markdown", 
   "metadata": {}
  }, 
  {
   "execution_count": null, 
   "cell_type": "code", 
   "source": [
    "cubeviz3 = CubeViz()\n", 
    "cubeviz3.app"
   ], 
   "outputs": [], 
   "metadata": {
    "scrolled": false
   }
  }, 
  {
   "execution_count": null, 
   "cell_type": "code", 
   "source": [
    "fn = download_file('https://stsci.box.com/shared/static/28a88k1qfipo4yxc4p4d40v4axtlal8y.fits', cache=True)\n", 
    "cubeviz3.load_data(fn)"
   ], 
   "outputs": [], 
   "metadata": {}
  }, 
  {
   "execution_count": null, 
   "cell_type": "code", 
   "source": [], 
   "outputs": [], 
   "metadata": {}
  }
 ], 
 "nbformat": 4, 
 "metadata": {
  "kernelspec": {
   "display_name": "Jdaviz", 
   "name": "jdaviz", 
   "language": "python"
  }, 
  "language_info": {
   "mimetype": "text/x-python", 
   "nbconvert_exporter": "python", 
   "name": "python", 
   "file_extension": ".py", 
   "version": "3.8.10", 
   "pygments_lexer": "ipython3", 
   "codemirror_mode": {
    "version": 3, 
    "name": "ipython"
   }
  }
 }
}